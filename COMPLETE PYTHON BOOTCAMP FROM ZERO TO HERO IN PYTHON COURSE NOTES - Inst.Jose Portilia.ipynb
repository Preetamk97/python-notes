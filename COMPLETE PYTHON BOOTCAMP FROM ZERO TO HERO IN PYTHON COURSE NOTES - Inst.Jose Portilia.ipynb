{
 "cells": [
  {
   "cell_type": "markdown",
   "metadata": {},
   "source": [
    "# 1. USING PYTHON AS CALCULATOR"
   ]
  },
  {
   "cell_type": "code",
   "execution_count": 1,
   "metadata": {},
   "outputs": [
    {
     "data": {
      "text/plain": [
       "9"
      ]
     },
     "execution_count": 1,
     "metadata": {},
     "output_type": "execute_result"
    }
   ],
   "source": [
    "4+5 #adition"
   ]
  },
  {
   "cell_type": "code",
   "execution_count": 2,
   "metadata": {},
   "outputs": [
    {
     "data": {
      "text/plain": [
       "1"
      ]
     },
     "execution_count": 2,
     "metadata": {},
     "output_type": "execute_result"
    }
   ],
   "source": [
    "5-4 #subtraction"
   ]
  },
  {
   "cell_type": "code",
   "execution_count": 3,
   "metadata": {},
   "outputs": [
    {
     "data": {
      "text/plain": [
       "20"
      ]
     },
     "execution_count": 3,
     "metadata": {},
     "output_type": "execute_result"
    }
   ],
   "source": [
    "5*4 #multipication"
   ]
  },
  {
   "cell_type": "code",
   "execution_count": 4,
   "metadata": {},
   "outputs": [
    {
     "data": {
      "text/plain": [
       "2.0"
      ]
     },
     "execution_count": 4,
     "metadata": {},
     "output_type": "execute_result"
    }
   ],
   "source": [
    "12/6 #division"
   ]
  },
  {
   "cell_type": "markdown",
   "metadata": {},
   "source": [
    "## Modulo or \"Mod\" Operator (Gives back the Remainder)"
   ]
  },
  {
   "cell_type": "code",
   "execution_count": 6,
   "metadata": {},
   "outputs": [
    {
     "data": {
      "text/plain": [
       "3"
      ]
     },
     "execution_count": 6,
     "metadata": {},
     "output_type": "execute_result"
    }
   ],
   "source": [
    "7 % 4"
   ]
  },
  {
   "cell_type": "code",
   "execution_count": 11,
   "metadata": {},
   "outputs": [
    {
     "data": {
      "text/plain": [
       "0"
      ]
     },
     "execution_count": 11,
     "metadata": {},
     "output_type": "execute_result"
    }
   ],
   "source": [
    "50 % 5"
   ]
  },
  {
   "cell_type": "markdown",
   "metadata": {},
   "source": [
    "## Power Operation in Python"
   ]
  },
  {
   "cell_type": "code",
   "execution_count": 13,
   "metadata": {},
   "outputs": [
    {
     "data": {
      "text/plain": [
       "8"
      ]
     },
     "execution_count": 13,
     "metadata": {},
     "output_type": "execute_result"
    }
   ],
   "source": [
    "2**3"
   ]
  },
  {
   "cell_type": "markdown",
   "metadata": {},
   "source": [
    "## BODMAS and Bracket Operations in Python"
   ]
  },
  {
   "cell_type": "code",
   "execution_count": 17,
   "metadata": {},
   "outputs": [
    {
     "data": {
      "text/plain": [
       "2"
      ]
     },
     "execution_count": 17,
     "metadata": {},
     "output_type": "execute_result"
    }
   ],
   "source": [
    "2*3-2*2"
   ]
  },
  {
   "cell_type": "code",
   "execution_count": 18,
   "metadata": {},
   "outputs": [
    {
     "data": {
      "text/plain": [
       "18"
      ]
     },
     "execution_count": 18,
     "metadata": {},
     "output_type": "execute_result"
    }
   ],
   "source": [
    "(2 * (7-4)) * 3"
   ]
  },
  {
   "cell_type": "markdown",
   "metadata": {},
   "source": [
    "# 2. VARIABLE ASSIGNMENTS "
   ]
  },
  {
   "cell_type": "code",
   "execution_count": 24,
   "metadata": {},
   "outputs": [],
   "source": [
    "my_dogs = 5"
   ]
  },
  {
   "cell_type": "code",
   "execution_count": 25,
   "metadata": {},
   "outputs": [
    {
     "name": "stdout",
     "output_type": "stream",
     "text": [
      "5\n"
     ]
    }
   ],
   "source": [
    "print(my_dogs)"
   ]
  },
  {
   "cell_type": "code",
   "execution_count": 26,
   "metadata": {},
   "outputs": [],
   "source": [
    "my_dogs = 10"
   ]
  },
  {
   "cell_type": "code",
   "execution_count": 27,
   "metadata": {},
   "outputs": [
    {
     "name": "stdout",
     "output_type": "stream",
     "text": [
      "10\n"
     ]
    }
   ],
   "source": [
    "print(my_dogs)"
   ]
  },
  {
   "cell_type": "code",
   "execution_count": 28,
   "metadata": {},
   "outputs": [
    {
     "data": {
      "text/plain": [
       "20"
      ]
     },
     "execution_count": 28,
     "metadata": {},
     "output_type": "execute_result"
    }
   ],
   "source": [
    "my_dogs + my_dogs "
   ]
  },
  {
   "cell_type": "code",
   "execution_count": 29,
   "metadata": {},
   "outputs": [],
   "source": [
    "my_dogs = my_dogs + my_dogs"
   ]
  },
  {
   "cell_type": "code",
   "execution_count": 30,
   "metadata": {},
   "outputs": [
    {
     "name": "stdout",
     "output_type": "stream",
     "text": [
      "20\n"
     ]
    }
   ],
   "source": [
    "print(my_dogs)"
   ]
  },
  {
   "cell_type": "markdown",
   "metadata": {},
   "source": [
    "## Determing Data Type of Variable"
   ]
  },
  {
   "cell_type": "code",
   "execution_count": 32,
   "metadata": {},
   "outputs": [
    {
     "data": {
      "text/plain": [
       "int"
      ]
     },
     "execution_count": 32,
     "metadata": {},
     "output_type": "execute_result"
    }
   ],
   "source": [
    "type(my_dogs)"
   ]
  },
  {
   "cell_type": "code",
   "execution_count": 33,
   "metadata": {},
   "outputs": [],
   "source": [
    "my_dogs = 4.7777"
   ]
  },
  {
   "cell_type": "code",
   "execution_count": 34,
   "metadata": {},
   "outputs": [
    {
     "data": {
      "text/plain": [
       "float"
      ]
     },
     "execution_count": 34,
     "metadata": {},
     "output_type": "execute_result"
    }
   ],
   "source": [
    "type(my_dogs)"
   ]
  },
  {
   "cell_type": "code",
   "execution_count": 35,
   "metadata": {},
   "outputs": [],
   "source": [
    "my_income = 100\n",
    "tax_rate = 0.1\n",
    "income_tax = my_income * tax_rate"
   ]
  },
  {
   "cell_type": "code",
   "execution_count": 36,
   "metadata": {},
   "outputs": [
    {
     "name": "stdout",
     "output_type": "stream",
     "text": [
      "10.0\n"
     ]
    }
   ],
   "source": [
    "print (income_tax)"
   ]
  },
  {
   "cell_type": "markdown",
   "metadata": {},
   "source": [
    "# 3. DATA TYPES IN PYTHON"
   ]
  },
  {
   "cell_type": "markdown",
   "metadata": {},
   "source": [
    "## INTRODUCTION TO STRINGS"
   ]
  },
  {
   "cell_type": "code",
   "execution_count": 37,
   "metadata": {},
   "outputs": [
    {
     "data": {
      "text/plain": [
       "'Hello'"
      ]
     },
     "execution_count": 37,
     "metadata": {},
     "output_type": "execute_result"
    }
   ],
   "source": [
    "\"Hello\""
   ]
  },
  {
   "cell_type": "code",
   "execution_count": 38,
   "metadata": {},
   "outputs": [
    {
     "data": {
      "text/plain": [
       "'This is also a string'"
      ]
     },
     "execution_count": 38,
     "metadata": {},
     "output_type": "execute_result"
    }
   ],
   "source": [
    "\"This is also a string\""
   ]
  },
  {
   "cell_type": "code",
   "execution_count": 39,
   "metadata": {},
   "outputs": [
    {
     "data": {
      "text/plain": [
       "'This is also a string'"
      ]
     },
     "execution_count": 39,
     "metadata": {},
     "output_type": "execute_result"
    }
   ],
   "source": [
    "'This is also a string'"
   ]
  },
  {
   "cell_type": "code",
   "execution_count": 40,
   "metadata": {},
   "outputs": [
    {
     "name": "stdout",
     "output_type": "stream",
     "text": [
      "hello\n"
     ]
    }
   ],
   "source": [
    "print(\"hello\")"
   ]
  },
  {
   "cell_type": "code",
   "execution_count": 5,
   "metadata": {},
   "outputs": [
    {
     "name": "stdout",
     "output_type": "stream",
     "text": [
      "hello\n",
      "world\n"
     ]
    }
   ],
   "source": [
    "print('hello\\nworld') \n",
    "#This is a line break command."
   ]
  },
  {
   "cell_type": "code",
   "execution_count": 7,
   "metadata": {},
   "outputs": [
    {
     "name": "stdout",
     "output_type": "stream",
     "text": [
      "hello\n",
      " world\n"
     ]
    }
   ],
   "source": [
    "print('hello\\n world') #Notice the importance of space after \\n."
   ]
  },
  {
   "cell_type": "code",
   "execution_count": 46,
   "metadata": {},
   "outputs": [
    {
     "name": "stdout",
     "output_type": "stream",
     "text": [
      "hello \tworld\n"
     ]
    }
   ],
   "source": [
    "print(\"hello \\tworld\") \n",
    "#This is a space command."
   ]
  },
  {
   "cell_type": "code",
   "execution_count": 48,
   "metadata": {},
   "outputs": [
    {
     "data": {
      "text/plain": [
       "5"
      ]
     },
     "execution_count": 48,
     "metadata": {},
     "output_type": "execute_result"
    }
   ],
   "source": [
    "len(\"hello\")\n",
    "#This command shows the length the string."
   ]
  },
  {
   "cell_type": "code",
   "execution_count": 49,
   "metadata": {},
   "outputs": [
    {
     "data": {
      "text/plain": [
       "4"
      ]
     },
     "execution_count": 49,
     "metadata": {},
     "output_type": "execute_result"
    }
   ],
   "source": [
    "len(\"I am\")\n",
    "#Here python is also counting the space."
   ]
  },
  {
   "cell_type": "markdown",
   "metadata": {},
   "source": [
    "## STRING INDEXING AND SLICING"
   ]
  },
  {
   "cell_type": "code",
   "execution_count": 50,
   "metadata": {},
   "outputs": [
    {
     "name": "stdout",
     "output_type": "stream",
     "text": [
      "H\n"
     ]
    }
   ],
   "source": [
    "my_string = \"Hello World\"\n",
    "print(my_string[0])"
   ]
  },
  {
   "cell_type": "code",
   "execution_count": 52,
   "metadata": {},
   "outputs": [
    {
     "name": "stdout",
     "output_type": "stream",
     "text": [
      "r\n"
     ]
    }
   ],
   "source": [
    "print (my_string[8]) #Note that the python counts the space between the words too as a character."
   ]
  },
  {
   "cell_type": "code",
   "execution_count": 53,
   "metadata": {},
   "outputs": [
    {
     "name": "stdout",
     "output_type": "stream",
     "text": [
      "W\n"
     ]
    }
   ],
   "source": [
    "print(my_string[-5])"
   ]
  },
  {
   "cell_type": "code",
   "execution_count": 55,
   "metadata": {},
   "outputs": [
    {
     "name": "stdout",
     "output_type": "stream",
     "text": [
      "cdefghijkl\n"
     ]
    }
   ],
   "source": [
    "my_string = \"abcdefghijkl\"\n",
    "print(my_string[2:])\n",
    "#This is slicing operation. The index number of c is 2. We want to print \"c\" and the rest of the part."
   ]
  },
  {
   "cell_type": "code",
   "execution_count": 58,
   "metadata": {},
   "outputs": [
    {
     "name": "stdout",
     "output_type": "stream",
     "text": [
      "abc\n"
     ]
    }
   ],
   "source": [
    "print(my_string[:3]) \n",
    "#Now we want to print from the start up to the character \"c\" which has index number 2."
   ]
  },
  {
   "cell_type": "code",
   "execution_count": 60,
   "metadata": {},
   "outputs": [
    {
     "name": "stdout",
     "output_type": "stream",
     "text": [
      "cdef\n"
     ]
    }
   ],
   "source": [
    "print (my_string[2:6])\n",
    "#Now we are printing from \"c\" with index number 2 to \"f\" with index number \"5\"."
   ]
  },
  {
   "cell_type": "code",
   "execution_count": 63,
   "metadata": {},
   "outputs": [
    {
     "name": "stdout",
     "output_type": "stream",
     "text": [
      "abcdefghijkl\n",
      "acegik\n"
     ]
    }
   ],
   "source": [
    "print(my_string)\n",
    "\n",
    "print (my_string[::2]) # The symbol \"::\" indicates - go from start to end AND \"2\" is the step size/jump size."
   ]
  },
  {
   "cell_type": "code",
   "execution_count": 64,
   "metadata": {},
   "outputs": [
    {
     "name": "stdout",
     "output_type": "stream",
     "text": [
      "adgj\n"
     ]
    }
   ],
   "source": [
    "print(my_string[::3])"
   ]
  },
  {
   "cell_type": "code",
   "execution_count": 66,
   "metadata": {},
   "outputs": [
    {
     "name": "stdout",
     "output_type": "stream",
     "text": [
      "cegi\n"
     ]
    }
   ],
   "source": [
    "print (my_string[2:9:2])\n",
    "\n",
    "# Starting character: Upto but dont include: Step size"
   ]
  },
  {
   "cell_type": "code",
   "execution_count": 9,
   "metadata": {},
   "outputs": [
    {
     "name": "stdout",
     "output_type": "stream",
     "text": [
      "abcdefghijkl\n",
      "lkjihgfedcba\n"
     ]
    }
   ],
   "source": [
    "my_string = \"abcdefghijkl\"\n",
    "print (my_string)\n",
    "print (my_string [::-1])\n",
    "\n",
    "# A smart trick to reverse the entire string taking step size -1."
   ]
  },
  {
   "cell_type": "markdown",
   "metadata": {},
   "source": [
    "## STRING PROPERTISE AND METHODS"
   ]
  },
  {
   "cell_type": "code",
   "execution_count": 70,
   "metadata": {},
   "outputs": [
    {
     "name": "stdout",
     "output_type": "stream",
     "text": [
      "Pam\n"
     ]
    }
   ],
   "source": [
    "\"\"\"Suppose we have to change \n",
    "the first letter of Sam to Pam\"\"\"\n",
    "\n",
    "my_name = \"Sam\"\n",
    "name_piece = my_name[1:]\n",
    "new_name = \"P\" + name_piece\n",
    "print (new_name)\n",
    "\n",
    "#This is called String Concatenation."
   ]
  },
  {
   "cell_type": "code",
   "execution_count": 71,
   "metadata": {},
   "outputs": [
    {
     "name": "stdout",
     "output_type": "stream",
     "text": [
      "Preetam is a nice boy.\n"
     ]
    }
   ],
   "source": [
    "#Another example.\n",
    "\n",
    "x = \"Preetam\"\n",
    "\n",
    "print (x + \" is a nice boy.\")"
   ]
  },
  {
   "cell_type": "code",
   "execution_count": 73,
   "metadata": {},
   "outputs": [
    {
     "name": "stdout",
     "output_type": "stream",
     "text": [
      "zzzzzzzzzzzzzzz\n"
     ]
    }
   ],
   "source": [
    "letter = \"z\"\n",
    "print(letter * 15)\n",
    "#Printing variable letter 15 times."
   ]
  },
  {
   "cell_type": "code",
   "execution_count": 75,
   "metadata": {},
   "outputs": [
    {
     "data": {
      "text/plain": [
       "5"
      ]
     },
     "execution_count": 75,
     "metadata": {},
     "output_type": "execute_result"
    }
   ],
   "source": [
    "2 + 3"
   ]
  },
  {
   "cell_type": "code",
   "execution_count": 77,
   "metadata": {},
   "outputs": [
    {
     "data": {
      "text/plain": [
       "'23'"
      ]
     },
     "execution_count": 77,
     "metadata": {},
     "output_type": "execute_result"
    }
   ],
   "source": [
    "'2' + '3'\n",
    "#This becomes string concatenation."
   ]
  },
  {
   "cell_type": "code",
   "execution_count": 10,
   "metadata": {},
   "outputs": [
    {
     "name": "stdout",
     "output_type": "stream",
     "text": [
      "HELLO WORLD\n",
      "hello world\n",
      "['Hello', 'World']\n"
     ]
    }
   ],
   "source": [
    " x = \"Hello World\"\n",
    "\n",
    "print (x.upper()) #PRINT EVERYTHING IN UPPERCASE.\n",
    "\n",
    "print (x.lower()) #print everything in lowercase.\n",
    "\n",
    "print (x.split()) #This command lets you to create a *list of words* from a line/phrase."
   ]
  },
  {
   "cell_type": "code",
   "execution_count": 167,
   "metadata": {},
   "outputs": [
    {
     "name": "stdout",
     "output_type": "stream",
     "text": [
      "['Hii', 'this', 'is', 'a', 'string.']\n"
     ]
    }
   ],
   "source": [
    "x = \"Hii this is a string.\"\n",
    "print (x.split())\n",
    "#This command lets you to create a list from the words of a String."
   ]
  },
  {
   "cell_type": "code",
   "execution_count": 85,
   "metadata": {},
   "outputs": [
    {
     "name": "stdout",
     "output_type": "stream",
     "text": [
      "['H', '', ' th', 's ', 's a str', 'ng.']\n"
     ]
    }
   ],
   "source": [
    "#lets us say we want to create a list from the string and also omit \"i\" !\n",
    "\n",
    "x = \"Hii this is a string.\"\n",
    "\n",
    "print (x.split(\"i\"))\n"
   ]
  },
  {
   "cell_type": "markdown",
   "metadata": {},
   "source": [
    "## USE OF .format() COMMAND"
   ]
  },
  {
   "cell_type": "code",
   "execution_count": 11,
   "metadata": {},
   "outputs": [
    {
     "name": "stdout",
     "output_type": "stream",
     "text": [
      "This is a string INSERTED.\n"
     ]
    }
   ],
   "source": [
    "# Use of .format() command.\n",
    "\n",
    "print (\"This is a string {}\".format(\"INSERTED.\"))"
   ]
  },
  {
   "cell_type": "code",
   "execution_count": 88,
   "metadata": {},
   "outputs": [
    {
     "name": "stdout",
     "output_type": "stream",
     "text": [
      "Anne Frank is a good book.\n"
     ]
    }
   ],
   "source": [
    "print (\"Anne Frank {} {} {} {}.\".format(\"is\", \"a\", \"good\", \"book\"))"
   ]
  },
  {
   "cell_type": "code",
   "execution_count": 89,
   "metadata": {},
   "outputs": [
    {
     "name": "stdout",
     "output_type": "stream",
     "text": [
      "Anne Frank book is a good.\n"
     ]
    }
   ],
   "source": [
    "print (\"Anne Frank {3} {0} {1} {2}.\".format(\"is\", \"a\", \"good\", \"book\"))"
   ]
  },
  {
   "cell_type": "code",
   "execution_count": 90,
   "metadata": {},
   "outputs": [
    {
     "name": "stdout",
     "output_type": "stream",
     "text": [
      "Anne Frank book book book book.\n"
     ]
    }
   ],
   "source": [
    "print (\"Anne Frank {3} {3} {3} {3}.\".format(\"is\", \"a\", \"good\", \"book\"))"
   ]
  },
  {
   "cell_type": "code",
   "execution_count": 91,
   "metadata": {},
   "outputs": [
    {
     "name": "stdout",
     "output_type": "stream",
     "text": [
      "Anne Frank is a good book.\n"
     ]
    }
   ],
   "source": [
    "print (\"Anne Frank {i} {x} {g} {b}.\".format(i =\"is\", x = \"a\", g = \"good\", b = \"book\"))"
   ]
  },
  {
   "cell_type": "code",
   "execution_count": 99,
   "metadata": {},
   "outputs": [],
   "source": [
    "# float formatting method : it allows you to ajust the width and precision of your floating point number.\n",
    "# float formatting syntax = {value : width . precision f} \n",
    "#width basically means the SPACE between the floating value and the string.\n",
    "#Precision basically means how many digits do you want after decimal.\n",
    "#There should be no space between precision and \"f\" or else python will give error.  \n",
    "\n",
    "result = 100/777"
   ]
  },
  {
   "cell_type": "code",
   "execution_count": 100,
   "metadata": {},
   "outputs": [
    {
     "name": "stdout",
     "output_type": "stream",
     "text": [
      "The result is 0.1287001287001287.\n"
     ]
    }
   ],
   "source": [
    "print (\"The result is {}.\".format(result))"
   ]
  },
  {
   "cell_type": "code",
   "execution_count": 104,
   "metadata": {
    "scrolled": true
   },
   "outputs": [
    {
     "name": "stdout",
     "output_type": "stream",
     "text": [
      "The result is 0.12870.\n"
     ]
    }
   ],
   "source": [
    "print (\"The result is {r:1.5f}.\".format(r = result))"
   ]
  },
  {
   "cell_type": "code",
   "execution_count": 105,
   "metadata": {},
   "outputs": [
    {
     "name": "stdout",
     "output_type": "stream",
     "text": [
      "The result is              0.12870.\n"
     ]
    }
   ],
   "source": [
    "print (\"The result is {r:20.5f}.\".format(r = result))\n",
    " #Showing the significance of Width Value."
   ]
  },
  {
   "cell_type": "markdown",
   "metadata": {},
   "source": [
    "## The f-strings Method"
   ]
  },
  {
   "cell_type": "code",
   "execution_count": 108,
   "metadata": {},
   "outputs": [
    {
     "name": "stdout",
     "output_type": "stream",
     "text": [
      "The result is 2.03334777777.\n"
     ]
    }
   ],
   "source": [
    "#There is another alternative of .format{} method.\n",
    "\n",
    "result = 2.03334777777\n",
    "\n",
    "print (\"The result is {}.\".format(result)) #.format{} method."
   ]
  },
  {
   "cell_type": "code",
   "execution_count": 112,
   "metadata": {},
   "outputs": [
    {
     "name": "stdout",
     "output_type": "stream",
     "text": [
      "The result is 2.03334777777.\n"
     ]
    }
   ],
   "source": [
    "print (f\"The result is {result}.\") \n",
    "#This is called \"f-strings or formatted-strings method\"\n",
    "#DO NOT PUT SPACE BETWEEN INITIAL \"f\" AND THE STRING OTHERWISE IT WILL GIVE ERROR\n"
   ]
  },
  {
   "cell_type": "code",
   "execution_count": 113,
   "metadata": {},
   "outputs": [
    {
     "name": "stdout",
     "output_type": "stream",
     "text": [
      "Preetam is 23 years old.\n"
     ]
    }
   ],
   "source": [
    "name = \"Preetam\"\n",
    "age = 23\n",
    "\n",
    "print(f\"{name} is {age} years old.\")"
   ]
  },
  {
   "cell_type": "markdown",
   "metadata": {},
   "source": [
    "## LISTS IN PYTHON"
   ]
  },
  {
   "cell_type": "code",
   "execution_count": 14,
   "metadata": {},
   "outputs": [
    {
     "name": "stdout",
     "output_type": "stream",
     "text": [
      "['string', 45.66667, 100]\n"
     ]
    },
    {
     "data": {
      "text/plain": [
       "3"
      ]
     },
     "execution_count": 14,
     "metadata": {},
     "output_type": "execute_result"
    }
   ],
   "source": [
    "my_list = [\"string\", 45.66667, 100]\n",
    "print (my_list)\n",
    "\n",
    "len(my_list) #Shows how many items are there in the list?"
   ]
  },
  {
   "cell_type": "code",
   "execution_count": 15,
   "metadata": {},
   "outputs": [
    {
     "name": "stdout",
     "output_type": "stream",
     "text": [
      "string\n",
      "[45.66667, 100]\n"
     ]
    }
   ],
   "source": [
    "print (my_list[0]) #Indexing operation on list.\n",
    "\n",
    "print (my_list[1:])"
   ]
  },
  {
   "cell_type": "code",
   "execution_count": 16,
   "metadata": {},
   "outputs": [
    {
     "name": "stdout",
     "output_type": "stream",
     "text": [
      "['string', 45.66667, 100, 'preetam', 'bikash', 'pradhu']\n"
     ]
    }
   ],
   "source": [
    "another_list = [\"preetam\", \"bikash\", \"pradhu\"]\n",
    "total_list = my_list + another_list\n",
    "print (total_list) #Concatenation of list."
   ]
  },
  {
   "cell_type": "code",
   "execution_count": 17,
   "metadata": {},
   "outputs": [
    {
     "name": "stdout",
     "output_type": "stream",
     "text": [
      "['string', 45.66667, 100, 'Rohit', 'bikash', 'pradhu']\n"
     ]
    }
   ],
   "source": [
    "total_list[3] = \"Rohit\"\n",
    "print(total_list) #Changing of datas in list."
   ]
  },
  {
   "cell_type": "code",
   "execution_count": 18,
   "metadata": {},
   "outputs": [
    {
     "name": "stdout",
     "output_type": "stream",
     "text": [
      "['string', 45.66667, 100, 'Rohit', 'bikash', 'pradhu', 'preetam']\n"
     ]
    }
   ],
   "source": [
    "total_list.append(\"preetam\") #Adding/Appending a new element to end of list.\n",
    "print(total_list)"
   ]
  },
  {
   "cell_type": "code",
   "execution_count": 19,
   "metadata": {},
   "outputs": [
    {
     "name": "stdout",
     "output_type": "stream",
     "text": [
      "['string', 45.66667, 100, 'Rohit', 'bikash', 'pradhu']\n"
     ]
    }
   ],
   "source": [
    "total_list.pop() #It removes the last element of the list.\n",
    "print (total_list)"
   ]
  },
  {
   "cell_type": "code",
   "execution_count": 20,
   "metadata": {},
   "outputs": [
    {
     "name": "stdout",
     "output_type": "stream",
     "text": [
      "pradhu\n"
     ]
    }
   ],
   "source": [
    "popped_item = total_list.pop()\n",
    "print (popped_item)"
   ]
  },
  {
   "cell_type": "code",
   "execution_count": 21,
   "metadata": {},
   "outputs": [
    {
     "name": "stdout",
     "output_type": "stream",
     "text": [
      "['string', 45.66667, 100, 'Rohit', 'bikash']\n"
     ]
    }
   ],
   "source": [
    "print(total_list)"
   ]
  },
  {
   "cell_type": "code",
   "execution_count": 22,
   "metadata": {},
   "outputs": [
    {
     "name": "stdout",
     "output_type": "stream",
     "text": [
      "['string', 100, 'Rohit', 'bikash']\n"
     ]
    }
   ],
   "source": [
    "#Now if we want to remove an item from a different place of the list just add its index number to POP command.\n",
    "\n",
    "total_list.pop(1)\n",
    "print (total_list) #The item 45.66667 with index number 1 is removed from the list now."
   ]
  },
  {
   "cell_type": "code",
   "execution_count": 23,
   "metadata": {},
   "outputs": [
    {
     "name": "stdout",
     "output_type": "stream",
     "text": [
      "['a', 'd', 'j', 'p', 'x']\n"
     ]
    }
   ],
   "source": [
    "#Sorting of a list in alphabetical order.\n",
    "\n",
    "new_list = ['a', 'x', 'd', 'j', 'p']\n",
    "new_list.sort()\n",
    "print (new_list)"
   ]
  },
  {
   "cell_type": "code",
   "execution_count": 24,
   "metadata": {},
   "outputs": [
    {
     "name": "stdout",
     "output_type": "stream",
     "text": [
      "[1, 6, 7, 34, 45, 46, 56, 78, 78.0005, 99]\n"
     ]
    }
   ],
   "source": [
    "num_list = [1, 7, 99, 46, 34, 78, 78.0005,  6, 45, 56] #Sort () command works for number lists also.\n",
    "num_list.sort()\n",
    "print (num_list)"
   ]
  },
  {
   "cell_type": "code",
   "execution_count": 27,
   "metadata": {},
   "outputs": [
    {
     "name": "stdout",
     "output_type": "stream",
     "text": [
      "[1, 6, 7, 34, 45, 46, 56, 78, 78.0005, 99]\n",
      "['a', 'd', 'j', 'p', 'x']\n",
      "[99, 78.0005, 78, 56, 46, 45, 34, 7, 6, 1]\n",
      "['x', 'p', 'j', 'd', 'a']\n"
     ]
    }
   ],
   "source": [
    "print (num_list)\n",
    "print (new_list)\n",
    "\n",
    "num_list.reverse()\n",
    "new_list.reverse()\n",
    "\n",
    "print (num_list)\n",
    "print (new_list)\n",
    "\n",
    "#The reverse() command just sets the list in reverse order. "
   ]
  },
  {
   "cell_type": "markdown",
   "metadata": {},
   "source": [
    "## WORKING WITH DICTIONARIES"
   ]
  },
  {
   "cell_type": "code",
   "execution_count": 30,
   "metadata": {},
   "outputs": [
    {
     "name": "stdout",
     "output_type": "stream",
     "text": [
      "value1\n"
     ]
    }
   ],
   "source": [
    "my_dictionary = {'key1':'value1', \"key2\":\"value2\"}\n",
    "\n",
    "#Notice the use of second bracket {} while declaring the dictionary.\n",
    "\n",
    "#Now I want to access a particular value from the dictionary.\n",
    "\n",
    "print(my_dictionary['key1'])\n",
    "\n",
    "#Notice the use of third bracket while calling a value from the dictionary."
   ]
  },
  {
   "cell_type": "code",
   "execution_count": 31,
   "metadata": {},
   "outputs": [
    {
     "name": "stdout",
     "output_type": "stream",
     "text": [
      "{'key1': 'value1', 'key2': 'value2'}\n"
     ]
    }
   ],
   "source": [
    "#Also I can print my full dictionary.\n",
    "\n",
    "print (my_dictionary)"
   ]
  },
  {
   "cell_type": "code",
   "execution_count": 32,
   "metadata": {},
   "outputs": [
    {
     "data": {
      "text/plain": [
       "'Rs.12'"
      ]
     },
     "execution_count": 32,
     "metadata": {},
     "output_type": "execute_result"
    }
   ],
   "source": [
    "#another example\n",
    "\n",
    "grocery_prices = {\"Cornflakes\":\"Rs.300\", \"Purabi\":\"Rs.25\", \"Maggi\":\"Rs.12\"}\n",
    "\n",
    "grocery_prices[\"Maggi\"]"
   ]
  },
  {
   "cell_type": "code",
   "execution_count": 34,
   "metadata": {},
   "outputs": [
    {
     "data": {
      "text/plain": [
       "'d'"
      ]
     },
     "execution_count": 34,
     "metadata": {},
     "output_type": "execute_result"
    }
   ],
   "source": [
    "#We can insert a LIST or even another DICTIONARY inside a dictionary.\n",
    "\n",
    "my_dict = {\"key1\":\"value1\", \"key2\":['a', 'b', 'c', 'd', 'e', 'f'], \"key3\":{\"Ford\":\"Henry_Ford\", \"SpaceX\":\"Elon_Musk\"}}\n",
    "\n",
    "#Now suppose I want to access the letter d which is at index number 3 inside the list from the dictionary.\n",
    "\n",
    "my_dict [\"key2\"][3]"
   ]
  },
  {
   "cell_type": "code",
   "execution_count": 35,
   "metadata": {},
   "outputs": [
    {
     "data": {
      "text/plain": [
       "'Elon_Musk'"
      ]
     },
     "execution_count": 35,
     "metadata": {},
     "output_type": "execute_result"
    }
   ],
   "source": [
    "#Now suppose I want to know who founded the company SpaceX from the dictionary.\n",
    "\n",
    "my_dict [\"key3\"][\"SpaceX\"]"
   ]
  },
  {
   "cell_type": "code",
   "execution_count": 37,
   "metadata": {},
   "outputs": [
    {
     "data": {
      "text/plain": [
       "'ELON_MUSK'"
      ]
     },
     "execution_count": 37,
     "metadata": {},
     "output_type": "execute_result"
    }
   ],
   "source": [
    "#Now suppose I want to make the name Elon_Musk ALL capital.\n",
    "\n",
    "my_dict [\"key3\"][\"SpaceX\"].upper()"
   ]
  },
  {
   "cell_type": "code",
   "execution_count": 40,
   "metadata": {},
   "outputs": [
    {
     "name": "stdout",
     "output_type": "stream",
     "text": [
      "{'key1': 'value1', 'key2': ['a', 'b', 'c', 'd', 'e', 'f'], 'key3': {'Ford': 'Henry_Ford', 'SpaceX': 'Elon_Musk'}}\n"
     ]
    }
   ],
   "source": [
    "print(my_dict)\n",
    "\n",
    "#But as you can see below, the name of Elon_Musk has not been updated in the main dictionary."
   ]
  },
  {
   "cell_type": "code",
   "execution_count": 43,
   "metadata": {
    "scrolled": true
   },
   "outputs": [
    {
     "data": {
      "text/plain": [
       "{'key1': 'value1',\n",
       " 'key2': ['a', 'b', 'c', 'd', 'e', 'f'],\n",
       " 'key3': {'Ford': 'Henry_Ford', 'SpaceX': 'ELON_MUSK'},\n",
       " 'key4': {'Tata': 'Ratan_Tata'}}"
      ]
     },
     "execution_count": 43,
     "metadata": {},
     "output_type": "execute_result"
    }
   ],
   "source": [
    "#Adding a new value to the dictionary.\n",
    "#We can also us ethe same method to change the value of any existing key inside a dictionary.\n",
    "\n",
    "my_dict[\"key4\"] = {\"Tata\":\"Ratan_Tata\"} \n",
    "\n",
    "my_dict"
   ]
  },
  {
   "cell_type": "code",
   "execution_count": 44,
   "metadata": {},
   "outputs": [
    {
     "name": "stdout",
     "output_type": "stream",
     "text": [
      "{'key1': 'value1', 'key2': ['a', 'b', 'c', 'd', 'e', 'f'], 'key3': {'Ford': 'Henry_Ford', 'SpaceX': 'ELON_MUSK'}, 'key4': {'Tata': 'Ratan_Tata'}}\n"
     ]
    }
   ],
   "source": [
    "#Let us try to permanently convert the letters of Elon_Musk to upper case in our dictionary.\n",
    "\n",
    "my_dict[\"key3\"][\"SpaceX\"] = my_dict[\"key3\"][\"SpaceX\"].upper()\n",
    "\n",
    "print (my_dict)"
   ]
  },
  {
   "cell_type": "code",
   "execution_count": 46,
   "metadata": {},
   "outputs": [
    {
     "data": {
      "text/plain": [
       "dict_keys(['key1', 'key2', 'key3', 'key4'])"
      ]
     },
     "execution_count": 46,
     "metadata": {},
     "output_type": "execute_result"
    }
   ],
   "source": [
    "#If I want to see all the keys in the dictionary.\n",
    "\n",
    "my_dict.keys()"
   ]
  },
  {
   "cell_type": "code",
   "execution_count": 47,
   "metadata": {},
   "outputs": [
    {
     "data": {
      "text/plain": [
       "dict_values(['value1', ['a', 'b', 'c', 'd', 'e', 'f'], {'Ford': 'Henry_Ford', 'SpaceX': 'ELON_MUSK'}, {'Tata': 'Ratan_Tata'}])"
      ]
     },
     "execution_count": 47,
     "metadata": {},
     "output_type": "execute_result"
    }
   ],
   "source": [
    "#If I want to see all the values inside the dictionary.\n",
    "\n",
    "my_dict.values()"
   ]
  },
  {
   "cell_type": "code",
   "execution_count": 48,
   "metadata": {},
   "outputs": [
    {
     "data": {
      "text/plain": [
       "dict_items([('key1', 'value1'), ('key2', ['a', 'b', 'c', 'd', 'e', 'f']), ('key3', {'Ford': 'Henry_Ford', 'SpaceX': 'ELON_MUSK'}), ('key4', {'Tata': 'Ratan_Tata'})])"
      ]
     },
     "execution_count": 48,
     "metadata": {},
     "output_type": "execute_result"
    }
   ],
   "source": [
    " my_dict.items()\n",
    "    \n",
    "    #This is just another command if we want to see all the items of the dictionary."
   ]
  },
  {
   "cell_type": "markdown",
   "metadata": {},
   "source": [
    "## TUPLES IN PYTHON"
   ]
  },
  {
   "cell_type": "code",
   "execution_count": 61,
   "metadata": {},
   "outputs": [],
   "source": [
    "#TUPLES ARE SIMILAR TO LISTS EXCEPT THEY ARE IMMUTABLE i.e VALUES INSIDE A TUPPLE CANNOT BE CHANGED LIKE A LIST.\n",
    "    \n",
    "my_list = [\"preetam\", 100, 45.778]\n",
    "    \n",
    "my_tuple = (\"pradhugyna\", 88.666, 50)"
   ]
  },
  {
   "cell_type": "code",
   "execution_count": 62,
   "metadata": {},
   "outputs": [
    {
     "data": {
      "text/plain": [
       "list"
      ]
     },
     "execution_count": 62,
     "metadata": {},
     "output_type": "execute_result"
    }
   ],
   "source": [
    "type(my_list)"
   ]
  },
  {
   "cell_type": "code",
   "execution_count": 63,
   "metadata": {},
   "outputs": [
    {
     "data": {
      "text/plain": [
       "tuple"
      ]
     },
     "execution_count": 63,
     "metadata": {},
     "output_type": "execute_result"
    }
   ],
   "source": [
    "type(my_tuple)"
   ]
  },
  {
   "cell_type": "code",
   "execution_count": 64,
   "metadata": {},
   "outputs": [
    {
     "data": {
      "text/plain": [
       "3"
      ]
     },
     "execution_count": 64,
     "metadata": {},
     "output_type": "execute_result"
    }
   ],
   "source": [
    "len(my_tuple) #To find number of elements in a tuple."
   ]
  },
  {
   "cell_type": "code",
   "execution_count": 65,
   "metadata": {},
   "outputs": [
    {
     "name": "stdout",
     "output_type": "stream",
     "text": [
      "('pradhugyna', 88.666, 50)\n"
     ]
    },
    {
     "data": {
      "text/plain": [
       "('pradhugyna', 88.666)"
      ]
     },
     "execution_count": 65,
     "metadata": {},
     "output_type": "execute_result"
    }
   ],
   "source": [
    "#We can also perform indexing and slicing in tuples.\n",
    "\n",
    "print(my_tuple)\n",
    "\n",
    "my_tuple[0:2:1] \n",
    "\n",
    "#Start : Stop but not include : Jump size"
   ]
  },
  {
   "cell_type": "code",
   "execution_count": 67,
   "metadata": {},
   "outputs": [
    {
     "data": {
      "text/plain": [
       "'pradhugyna'"
      ]
     },
     "execution_count": 67,
     "metadata": {},
     "output_type": "execute_result"
    }
   ],
   "source": [
    "my_tuple[0]"
   ]
  },
  {
   "cell_type": "code",
   "execution_count": 68,
   "metadata": {},
   "outputs": [
    {
     "data": {
      "text/plain": [
       "2"
      ]
     },
     "execution_count": 68,
     "metadata": {},
     "output_type": "execute_result"
    }
   ],
   "source": [
    "#Using the .count() command we can determine how many times an element has been repeated in the tuple.\n",
    "\n",
    "my_tupple = ('a','a','b','c')\n",
    "my_tupple.count('a') "
   ]
  },
  {
   "cell_type": "code",
   "execution_count": 69,
   "metadata": {},
   "outputs": [
    {
     "data": {
      "text/plain": [
       "0"
      ]
     },
     "execution_count": 69,
     "metadata": {},
     "output_type": "execute_result"
    }
   ],
   "source": [
    "my_tupple.index('a')  \n",
    "#Using this .index() command we can determine where an element has occured in tuple for the first tme."
   ]
  },
  {
   "cell_type": "code",
   "execution_count": 70,
   "metadata": {},
   "outputs": [
    {
     "data": {
      "text/plain": [
       "3"
      ]
     },
     "execution_count": 70,
     "metadata": {},
     "output_type": "execute_result"
    }
   ],
   "source": [
    "my_tupple.index('c') "
   ]
  },
  {
   "cell_type": "markdown",
   "metadata": {},
   "source": [
    "## INTRODUCTION TO SETS IN PYTHON"
   ]
  },
  {
   "cell_type": "code",
   "execution_count": 146,
   "metadata": {},
   "outputs": [],
   "source": [
    "#Adiing elements to a set in python.\n",
    "\n",
    "#Declaring a set\n",
    "my_set = set()\n",
    "\n",
    "#Adding elements to a set.\n",
    "my_set.add(\"Mayur\")\n",
    "\n",
    "my_set.add(2) \n",
    "\n",
    "my_set.add(3)\n",
    "\n",
    "my_set.add(4)"
   ]
  },
  {
   "cell_type": "code",
   "execution_count": 147,
   "metadata": {},
   "outputs": [
    {
     "data": {
      "text/plain": [
       "{2, 3, 4, 'Mayur'}"
      ]
     },
     "execution_count": 147,
     "metadata": {},
     "output_type": "execute_result"
    }
   ],
   "source": [
    "my_set"
   ]
  },
  {
   "cell_type": "code",
   "execution_count": 148,
   "metadata": {},
   "outputs": [
    {
     "data": {
      "text/plain": [
       "{3, 4, 'Mayur'}"
      ]
     },
     "execution_count": 148,
     "metadata": {},
     "output_type": "execute_result"
    }
   ],
   "source": [
    "my_set.pop()\n",
    "my_set\n",
    "\n",
    "#As you can see, entities of the set are popped from the left."
   ]
  },
  {
   "cell_type": "code",
   "execution_count": 73,
   "metadata": {},
   "outputs": [
    {
     "data": {
      "text/plain": [
       "{1, 2, 3, 4, 5, 6, 7, 45, 56}"
      ]
     },
     "execution_count": 73,
     "metadata": {},
     "output_type": "execute_result"
    }
   ],
   "source": [
    "my_list = [1,1,1,1,1,1,2,2,2,2,2,2,3,3,3,3,3,3,3,3,4,4,4,4,4,4,4,45,5,5,6,6,6,6,56,7,7,7,7,]\n",
    "my_set = set(my_list)\n",
    "my_set\n",
    "\n",
    "#In this way we can convert a list into a set \n",
    "\n",
    "#And SET always accepts only the UNIQUE values."
   ]
  },
  {
   "cell_type": "code",
   "execution_count": 75,
   "metadata": {},
   "outputs": [
    {
     "data": {
      "text/plain": [
       "{' ', 'M', 'a', 'e', 'i', 'p', 'r', 's', 'v'}"
      ]
     },
     "execution_count": 75,
     "metadata": {},
     "output_type": "execute_result"
    }
   ],
   "source": [
    "#A set converts even a string into a collection of unique letters.\n",
    "\n",
    "my_set = set (\"Mississippi is a river\")\n",
    "my_set"
   ]
  },
  {
   "cell_type": "markdown",
   "metadata": {},
   "source": [
    "## BOOLEANS"
   ]
  },
  {
   "cell_type": "markdown",
   "metadata": {},
   "source": [
    "There are two types of Boolean **\"True\"** & **\"False\"**"
   ]
  },
  {
   "cell_type": "code",
   "execution_count": 76,
   "metadata": {},
   "outputs": [
    {
     "data": {
      "text/plain": [
       "bool"
      ]
     },
     "execution_count": 76,
     "metadata": {},
     "output_type": "execute_result"
    }
   ],
   "source": [
    " type(True)"
   ]
  },
  {
   "cell_type": "code",
   "execution_count": 77,
   "metadata": {},
   "outputs": [
    {
     "data": {
      "text/plain": [
       "bool"
      ]
     },
     "execution_count": 77,
     "metadata": {},
     "output_type": "execute_result"
    }
   ],
   "source": [
    "type(False)"
   ]
  },
  {
   "cell_type": "markdown",
   "metadata": {},
   "source": [
    "How to use them????"
   ]
  },
  {
   "cell_type": "code",
   "execution_count": 195,
   "metadata": {},
   "outputs": [
    {
     "data": {
      "text/plain": [
       "False"
      ]
     },
     "execution_count": 195,
     "metadata": {},
     "output_type": "execute_result"
    }
   ],
   "source": [
    "1 > 2"
   ]
  },
  {
   "cell_type": "code",
   "execution_count": 78,
   "metadata": {},
   "outputs": [
    {
     "data": {
      "text/plain": [
       "True"
      ]
     },
     "execution_count": 78,
     "metadata": {},
     "output_type": "execute_result"
    }
   ],
   "source": [
    "5 == 2.5*2"
   ]
  },
  {
   "cell_type": "markdown",
   "metadata": {},
   "source": [
    "# 4. OPENING AND WORKING WITH .TXT (NOTEPAD) FILES IN PYTHON"
   ]
  },
  {
   "cell_type": "markdown",
   "metadata": {},
   "source": [
    "Below is the way of creating a **.txt** (NOTEPAD) file in Jupyter Notebook.<br>\n",
    "In these code we **CANNOT add a comment**. It shows error otherwise.<br>\n",
    "The file created gets saved with the other .py files."
   ]
  },
  {
   "cell_type": "code",
   "execution_count": 4,
   "metadata": {},
   "outputs": [
    {
     "name": "stdout",
     "output_type": "stream",
     "text": [
      "Overwriting myfile.txt\n"
     ]
    }
   ],
   "source": [
    "%%writefile myfile.txt\n",
    "\n",
    "Hello Friends!\n",
    "My name is Pritam Ranjan Kalita.\n",
    "I am a student of Mechanical Engineering.\n",
    "I live in Guwahati, Assam."
   ]
  },
  {
   "cell_type": "code",
   "execution_count": 6,
   "metadata": {},
   "outputs": [],
   "source": [
    "#To check where our notebook is currently located."
   ]
  },
  {
   "cell_type": "code",
   "execution_count": 7,
   "metadata": {},
   "outputs": [
    {
     "data": {
      "text/plain": [
       "'C:\\\\Users\\\\HP\\\\My Python Notes'"
      ]
     },
     "execution_count": 7,
     "metadata": {},
     "output_type": "execute_result"
    }
   ],
   "source": [
    "pwd"
   ]
  },
  {
   "cell_type": "code",
   "execution_count": 213,
   "metadata": {},
   "outputs": [],
   "source": [
    "#To call the .txt file created and work with it in the notebook first we have to assign a variable name to this file. \n",
    "my_file = open('myfile.txt')"
   ]
  },
  {
   "cell_type": "code",
   "execution_count": 225,
   "metadata": {},
   "outputs": [
    {
     "data": {
      "text/plain": [
       "'\\nHello Friends!\\nMy name is Pritam Ranjan Kalita.\\nI am a student of Mechanical Engineering.\\nI live in Guwahati, Assam.\\n'"
      ]
     },
     "execution_count": 225,
     "metadata": {},
     "output_type": "execute_result"
    }
   ],
   "source": [
    "#Now if we want to read our .txt file then...\n",
    "\n",
    "my_file.read()"
   ]
  },
  {
   "cell_type": "code",
   "execution_count": 226,
   "metadata": {},
   "outputs": [
    {
     "data": {
      "text/plain": [
       "''"
      ]
     },
     "execution_count": 226,
     "metadata": {},
     "output_type": "execute_result"
    }
   ],
   "source": [
    "#Now we cannot use .read() command directly for the second time. If we again use .read() this happens....\n",
    "\n",
    "my_file.read()"
   ]
  },
  {
   "cell_type": "code",
   "execution_count": 227,
   "metadata": {},
   "outputs": [
    {
     "data": {
      "text/plain": [
       "'\\nHello Friends!\\nMy name is Pritam Ranjan Kalita.\\nI am a student of Mechanical Engineering.\\nI live in Guwahati, Assam.\\n'"
      ]
     },
     "execution_count": 227,
     "metadata": {},
     "output_type": "execute_result"
    }
   ],
   "source": [
    "#In order to use it second time we have to do this...\n",
    "\n",
    "my_file.seek(0)\n",
    "my_file.read()"
   ]
  },
  {
   "cell_type": "code",
   "execution_count": 228,
   "metadata": {},
   "outputs": [
    {
     "data": {
      "text/plain": [
       "0"
      ]
     },
     "execution_count": 228,
     "metadata": {},
     "output_type": "execute_result"
    }
   ],
   "source": [
    "#Lets us first seek back to zero...\n",
    "my_file.seek(0)"
   ]
  },
  {
   "cell_type": "code",
   "execution_count": 229,
   "metadata": {},
   "outputs": [
    {
     "data": {
      "text/plain": [
       "['\\n',\n",
       " 'Hello Friends!\\n',\n",
       " 'My name is Pritam Ranjan Kalita.\\n',\n",
       " 'I am a student of Mechanical Engineering.\\n',\n",
       " 'I live in Guwahati, Assam.\\n']"
      ]
     },
     "execution_count": 229,
     "metadata": {},
     "output_type": "execute_result"
    }
   ],
   "source": [
    "#Now there is another way to read a .txt file.\n",
    "\n",
    "my_file.readlines()"
   ]
  },
  {
   "cell_type": "code",
   "execution_count": 230,
   "metadata": {},
   "outputs": [],
   "source": [
    "#If you want to open files saved in another location, feed the entire file path.\n",
    "#For example, \n",
    "\n",
    "lucifer_file = open(\"D:\\\\MY PROJECTS\\\\python projects\\\\Lucifer.txt\")"
   ]
  },
  {
   "cell_type": "code",
   "execution_count": 231,
   "metadata": {},
   "outputs": [
    {
     "data": {
      "text/plain": [
       "['Lucifer is a fantastic series.\\n',\n",
       " 'Tom Ellis is the playing the role of the protagonist Lucifer.\\n',\n",
       " 'I like to wath Tom Ellis.']"
      ]
     },
     "execution_count": 231,
     "metadata": {},
     "output_type": "execute_result"
    }
   ],
   "source": [
    "lucifer_file.readlines()"
   ]
  },
  {
   "cell_type": "code",
   "execution_count": 233,
   "metadata": {},
   "outputs": [],
   "source": [
    "#close the file after you are dfone working with it. Otherwise it may create problem later on to work with the file.\n",
    "\n",
    "my_file.close()"
   ]
  },
  {
   "cell_type": "code",
   "execution_count": 234,
   "metadata": {},
   "outputs": [],
   "source": [
    "lucifer_file.close()"
   ]
  },
  {
   "cell_type": "code",
   "execution_count": 88,
   "metadata": {},
   "outputs": [],
   "source": [
    "#Now there is different way to open files also in case we want to work with it in jupyter notebook .\n",
    "\n",
    "with open(\"myfile.txt\") as my_file:\n",
    "    contents = my_file.read()       \n",
    "    \n",
    "    #Now whatever you want to do with your file you can do it here."
   ]
  },
  {
   "cell_type": "code",
   "execution_count": 239,
   "metadata": {},
   "outputs": [
    {
     "data": {
      "text/plain": [
       "'\\nHello Friends!\\nMy name is Pritam Ranjan Kalita.\\nI am a student of Mechanical Engineering.\\nI live in Guwahati, Assam.\\n'"
      ]
     },
     "execution_count": 239,
     "metadata": {},
     "output_type": "execute_result"
    }
   ],
   "source": [
    "contents"
   ]
  },
  {
   "cell_type": "code",
   "execution_count": 242,
   "metadata": {},
   "outputs": [],
   "source": [
    "#MODES OF OPENING FILE\n",
    "#1. mode ='r' is read only\n",
    "#2. mode ='w' is write only (you can overwrite files or create new file!)\n",
    "#3. mode ='a' is append only (to add something to files).\n",
    "#4. mode ='r+' is for reading and writing\n",
    "#5. mode ='w+' is for writing and reading\n",
    "\n",
    "#Now how we can use this MODES????"
   ]
  },
  {
   "cell_type": "code",
   "execution_count": 91,
   "metadata": {},
   "outputs": [
    {
     "name": "stdout",
     "output_type": "stream",
     "text": [
      "Writing my_new_file.txt\n"
     ]
    }
   ],
   "source": [
    "%%writefile my_new_file.txt\n",
    "THIS IS THE FIRST LINE.\n",
    "THIS IS THE SECOND LINE.\n",
    "THIS IS THE THIRD LINE."
   ]
  },
  {
   "cell_type": "code",
   "execution_count": 93,
   "metadata": {},
   "outputs": [
    {
     "name": "stdout",
     "output_type": "stream",
     "text": [
      "THIS IS THE FIRST LINE.\n",
      "THIS IS THE SECOND LINE.\n",
      "THIS IS THE THIRD LINE.\n",
      "\n"
     ]
    }
   ],
   "source": [
    "#Here we are opening a new file and assigning it a variable name mynewfile.\n",
    "\n",
    "with open(\"my_new_file.txt\",mode ='r') as mynewfile: \n",
    "    print(mynewfile.read())"
   ]
  },
  {
   "cell_type": "code",
   "execution_count": 250,
   "metadata": {},
   "outputs": [],
   "source": [
    "with open(\"my_new_file.txt\",mode ='a') as mynewfile:\n",
    "    mynewfile.write(\"THIS IS THE FOURTH LINE.\")"
   ]
  },
  {
   "cell_type": "code",
   "execution_count": 251,
   "metadata": {},
   "outputs": [
    {
     "name": "stdout",
     "output_type": "stream",
     "text": [
      "THIS IS THE FIRST LINE.\n",
      "THIS IS THE SECOND LINE.\n",
      "THIS IS THE THIRD LINE.\n",
      "THIS IS THE FOURTH LINE.\n"
     ]
    }
   ],
   "source": [
    "with open(\"my_new_file.txt\",mode ='r') as mynewfile: \n",
    "    print(mynewfile.read())"
   ]
  },
  {
   "cell_type": "code",
   "execution_count": 253,
   "metadata": {},
   "outputs": [],
   "source": [
    "with open(\"harrypotter.txt\",mode ='w') as harrypotterfile:\n",
    "    \n",
    "    #Now this file does not exist but mode ='w' can CREATE A NEW FILE! \n",
    "    \n",
    "    harrypotterfile.write(\"Welcome to Hogwarts School of Witchcraft and Wizardry!\")"
   ]
  },
  {
   "cell_type": "code",
   "execution_count": 256,
   "metadata": {},
   "outputs": [
    {
     "name": "stdout",
     "output_type": "stream",
     "text": [
      "Welcome to Hogwarts School of Witchcraft and Wizardry!\n"
     ]
    }
   ],
   "source": [
    "with open(\"harrypotter.txt\",mode ='r') as harrypotterfile:\n",
    "    \n",
    "    print(harrypotterfile.read())\n",
    "    \n",
    "#Every time you try to open the file you have to write both these lines of code. "
   ]
  },
  {
   "cell_type": "markdown",
   "metadata": {},
   "source": [
    "# 5. PYTHON COMPARISON OPERATORS"
   ]
  },
  {
   "cell_type": "code",
   "execution_count": 94,
   "metadata": {},
   "outputs": [
    {
     "data": {
      "text/plain": [
       "True"
      ]
     },
     "execution_count": 94,
     "metadata": {},
     "output_type": "execute_result"
    }
   ],
   "source": [
    "2 == 2"
   ]
  },
  {
   "cell_type": "code",
   "execution_count": 95,
   "metadata": {},
   "outputs": [
    {
     "data": {
      "text/plain": [
       "False"
      ]
     },
     "execution_count": 95,
     "metadata": {},
     "output_type": "execute_result"
    }
   ],
   "source": [
    "2 == 1"
   ]
  },
  {
   "cell_type": "code",
   "execution_count": 96,
   "metadata": {},
   "outputs": [
    {
     "data": {
      "text/plain": [
       "False"
      ]
     },
     "execution_count": 96,
     "metadata": {},
     "output_type": "execute_result"
    }
   ],
   "source": [
    "'hello'=='bye'"
   ]
  },
  {
   "cell_type": "code",
   "execution_count": 97,
   "metadata": {},
   "outputs": [
    {
     "data": {
      "text/plain": [
       "True"
      ]
     },
     "execution_count": 97,
     "metadata": {},
     "output_type": "execute_result"
    }
   ],
   "source": [
    "'bye' == 'bye'"
   ]
  },
  {
   "cell_type": "code",
   "execution_count": 98,
   "metadata": {},
   "outputs": [
    {
     "data": {
      "text/plain": [
       "False"
      ]
     },
     "execution_count": 98,
     "metadata": {},
     "output_type": "execute_result"
    }
   ],
   "source": [
    "'2' == 2"
   ]
  },
  {
   "cell_type": "code",
   "execution_count": 99,
   "metadata": {},
   "outputs": [
    {
     "data": {
      "text/plain": [
       "True"
      ]
     },
     "execution_count": 99,
     "metadata": {},
     "output_type": "execute_result"
    }
   ],
   "source": [
    "2.0 == 2"
   ]
  },
  {
   "cell_type": "markdown",
   "metadata": {},
   "source": [
    "**For inequality, we use exclamation \"!=\" sign.<br>\n",
    "Here we are asking, \"Is 3 NOT EQUAL to 3?\" and aswer to which is FALSE.**"
   ]
  },
  {
   "cell_type": "code",
   "execution_count": 100,
   "metadata": {},
   "outputs": [
    {
     "data": {
      "text/plain": [
       "False"
      ]
     },
     "execution_count": 100,
     "metadata": {},
     "output_type": "execute_result"
    }
   ],
   "source": [
    "3 != 3 "
   ]
  },
  {
   "cell_type": "code",
   "execution_count": 101,
   "metadata": {},
   "outputs": [
    {
     "data": {
      "text/plain": [
       "True"
      ]
     },
     "execution_count": 101,
     "metadata": {},
     "output_type": "execute_result"
    }
   ],
   "source": [
    "4 != 5"
   ]
  },
  {
   "cell_type": "code",
   "execution_count": 102,
   "metadata": {},
   "outputs": [
    {
     "data": {
      "text/plain": [
       "True"
      ]
     },
     "execution_count": 102,
     "metadata": {},
     "output_type": "execute_result"
    }
   ],
   "source": [
    "2 > 1"
   ]
  },
  {
   "cell_type": "code",
   "execution_count": 103,
   "metadata": {},
   "outputs": [
    {
     "data": {
      "text/plain": [
       "False"
      ]
     },
     "execution_count": 103,
     "metadata": {},
     "output_type": "execute_result"
    }
   ],
   "source": [
    "1 > 2"
   ]
  },
  {
   "cell_type": "code",
   "execution_count": 104,
   "metadata": {},
   "outputs": [
    {
     "data": {
      "text/plain": [
       "True"
      ]
     },
     "execution_count": 104,
     "metadata": {},
     "output_type": "execute_result"
    }
   ],
   "source": [
    "1 < 2"
   ]
  },
  {
   "cell_type": "code",
   "execution_count": 105,
   "metadata": {},
   "outputs": [
    {
     "data": {
      "text/plain": [
       "True"
      ]
     },
     "execution_count": 105,
     "metadata": {},
     "output_type": "execute_result"
    }
   ],
   "source": [
    "2 < 5"
   ]
  },
  {
   "cell_type": "code",
   "execution_count": 106,
   "metadata": {},
   "outputs": [
    {
     "data": {
      "text/plain": [
       "True"
      ]
     },
     "execution_count": 106,
     "metadata": {},
     "output_type": "execute_result"
    }
   ],
   "source": [
    "2 >= 2\n",
    "#Here we are asking \"IS 2 GREATER THAN OR EQUAL TO 2?\""
   ]
  },
  {
   "cell_type": "code",
   "execution_count": 107,
   "metadata": {},
   "outputs": [
    {
     "data": {
      "text/plain": [
       "False"
      ]
     },
     "execution_count": 107,
     "metadata": {},
     "output_type": "execute_result"
    }
   ],
   "source": [
    "4 <= 1\n",
    "#\"IS 4 LESS THAN OR EQUAL TO 1?\""
   ]
  },
  {
   "cell_type": "markdown",
   "metadata": {},
   "source": [
    "# 6. LOGICAL OPERATORS IN PYTHON"
   ]
  },
  {
   "cell_type": "markdown",
   "metadata": {},
   "source": [
    "There are 3 main logical operators in Python:\n",
    "\n",
    "- **and**\n",
    "- **or**\n",
    "- **not**"
   ]
  },
  {
   "cell_type": "code",
   "execution_count": 108,
   "metadata": {},
   "outputs": [
    {
     "data": {
      "text/plain": [
       "True"
      ]
     },
     "execution_count": 108,
     "metadata": {},
     "output_type": "execute_result"
    }
   ],
   "source": [
    "1 < 2"
   ]
  },
  {
   "cell_type": "code",
   "execution_count": 109,
   "metadata": {},
   "outputs": [
    {
     "data": {
      "text/plain": [
       "True"
      ]
     },
     "execution_count": 109,
     "metadata": {},
     "output_type": "execute_result"
    }
   ],
   "source": [
    "2 < 3"
   ]
  },
  {
   "cell_type": "code",
   "execution_count": 110,
   "metadata": {},
   "outputs": [
    {
     "data": {
      "text/plain": [
       "True"
      ]
     },
     "execution_count": 110,
     "metadata": {},
     "output_type": "execute_result"
    }
   ],
   "source": [
    "#Now we can check both these statements simultaneously using \"and\" operator.\n",
    "\n",
    "1<2 and 2<3"
   ]
  },
  {
   "cell_type": "code",
   "execution_count": 111,
   "metadata": {},
   "outputs": [
    {
     "data": {
      "text/plain": [
       "False"
      ]
     },
     "execution_count": 111,
     "metadata": {},
     "output_type": "execute_result"
    }
   ],
   "source": [
    "1<2 and 2>3\n",
    "\n",
    "#The output to this is \"False\" because one of the statements 2>3 is false.\n",
    "#The 'and' logic operator checks if both the statements are \"simultaneously\" true or not."
   ]
  },
  {
   "cell_type": "code",
   "execution_count": 112,
   "metadata": {},
   "outputs": [
    {
     "data": {
      "text/plain": [
       "True"
      ]
     },
     "execution_count": 112,
     "metadata": {},
     "output_type": "execute_result"
    }
   ],
   "source": [
    "'h' == 'h' and 2 == 2"
   ]
  },
  {
   "cell_type": "code",
   "execution_count": 113,
   "metadata": {},
   "outputs": [
    {
     "data": {
      "text/plain": [
       "True"
      ]
     },
     "execution_count": 113,
     "metadata": {},
     "output_type": "execute_result"
    }
   ],
   "source": [
    "100 == 1 or 2 == 2\n",
    "\n",
    "#Even if any one of the statements is true then the 'or' operator gives \"TRUE\" output."
   ]
  },
  {
   "cell_type": "code",
   "execution_count": 114,
   "metadata": {},
   "outputs": [
    {
     "data": {
      "text/plain": [
       "False"
      ]
     },
     "execution_count": 114,
     "metadata": {},
     "output_type": "execute_result"
    }
   ],
   "source": [
    "#Not operator is used to give just the oposite result of the true result. \n",
    "#For example, we know 1 == 1. That is 100% true. Now see what happens on using 'not' operator....\n",
    "\n",
    "not 1 == 1"
   ]
  },
  {
   "cell_type": "code",
   "execution_count": 116,
   "metadata": {},
   "outputs": [
    {
     "data": {
      "text/plain": [
       "True"
      ]
     },
     "execution_count": 116,
     "metadata": {},
     "output_type": "execute_result"
    }
   ],
   "source": [
    "#Another example...\n",
    "\n",
    "not 400 > 5000"
   ]
  },
  {
   "cell_type": "markdown",
   "metadata": {},
   "source": [
    "# 7. IF, ELIF, AND ELSE STATEMENTS IN PYTHON : NOW THE FUN BEGINS!"
   ]
  },
  {
   "cell_type": "markdown",
   "metadata": {},
   "source": [
    "## Syntax for If, elif, and else statements-\n",
    "\n",
    "if some_condition:\n",
    "   #execute some code\n",
    "elif some_other_condition:\n",
    "   #do something different\n",
    "else:\n",
    "   #do something else\n",
    "   \n",
    "   Lets explore all this concepts!\n",
    "   \n",
    "(Do not run this block)"
   ]
  },
  {
   "cell_type": "code",
   "execution_count": 117,
   "metadata": {},
   "outputs": [
    {
     "name": "stdout",
     "output_type": "stream",
     "text": [
      "Feed me!\n"
     ]
    }
   ],
   "source": [
    "#Example\n",
    "\n",
    "Hungry = True\n",
    "if Hungry:\n",
    "    print (\"Feed me!\")\n",
    "else:\n",
    "    print (\"I am  not hungry!\")"
   ]
  },
  {
   "cell_type": "code",
   "execution_count": 118,
   "metadata": {},
   "outputs": [
    {
     "name": "stdout",
     "output_type": "stream",
     "text": [
      "I am  not hungry!\n"
     ]
    }
   ],
   "source": [
    "Hungry = False\n",
    "if Hungry:\n",
    "    print (\"Feed me!\")\n",
    "else:\n",
    "    print (\"I am  not hungry!\")"
   ]
  },
  {
   "cell_type": "code",
   "execution_count": 119,
   "metadata": {},
   "outputs": [
    {
     "name": "stdout",
     "output_type": "stream",
     "text": [
      "He is an Indian.\n"
     ]
    }
   ],
   "source": [
    "location = \"India\"\n",
    "if location == \"India\":\n",
    "    print (\"He is an Indian.\")\n",
    "else:\n",
    "    print (\"He is a Foreigner.\")"
   ]
  },
  {
   "cell_type": "code",
   "execution_count": 120,
   "metadata": {},
   "outputs": [
    {
     "name": "stdout",
     "output_type": "stream",
     "text": [
      "He is a Foreigner.\n"
     ]
    }
   ],
   "source": [
    "location = \"Canada\"\n",
    "if location == \"India\":\n",
    "    print (\"He is an Indian.\")\n",
    "elif location == \"Pakistan\":\n",
    "    print (\"He is a Pakistani.\")\n",
    "else:\n",
    "    print (\"He is a Foreigner.\")"
   ]
  },
  {
   "cell_type": "code",
   "execution_count": 121,
   "metadata": {},
   "outputs": [
    {
     "name": "stdout",
     "output_type": "stream",
     "text": [
      "He is a Pakistani.\n"
     ]
    }
   ],
   "source": [
    "location = \"Pakistan\"\n",
    "if location == \"India\":\n",
    "    print (\"He is an Indian.\")\n",
    "elif location == \"Pakistan\":\n",
    "    print (\"He is a Pakistani.\")\n",
    "else:\n",
    "    print (\"He is a Foreigner.\")"
   ]
  },
  {
   "cell_type": "markdown",
   "metadata": {},
   "source": [
    "# 8. For Loops in Python"
   ]
  },
  {
   "cell_type": "code",
   "execution_count": 122,
   "metadata": {},
   "outputs": [
    {
     "name": "stdout",
     "output_type": "stream",
     "text": [
      "Odd number:1\n",
      "2\n",
      "Odd number:3\n",
      "4\n",
      "Odd number:5\n",
      "6\n",
      "Odd number:7\n",
      "8\n",
      "Odd number:9\n",
      "10\n"
     ]
    }
   ],
   "source": [
    "#This is a good example of the use of \"for\" loop in Python.\n",
    "\n",
    "#Declaring a list.\n",
    "my_list = [1,2,3,4,5,6,7,8,9,10]\n",
    "\n",
    "for num in my_list: \n",
    "#This means for every number in my_list. \n",
    "#\"num\" is just a name given for every item in the list\n",
    "\n",
    "    #Check for Even.\n",
    "    if num%2 == 0:  \n",
    "        #This means if the number is even...\n",
    "        \n",
    "        print (num)\n",
    "    else:\n",
    "        print(f\"Odd number:{num}\")\n",
    "    "
   ]
  },
  {
   "cell_type": "code",
   "execution_count": 123,
   "metadata": {},
   "outputs": [
    {
     "name": "stdout",
     "output_type": "stream",
     "text": [
      "55\n"
     ]
    }
   ],
   "source": [
    "#To find the sum of every number in the list.\n",
    "\n",
    "my_sum = 0\n",
    "my_list = [1,2,3,4,5,6,7,8,9,10]\n",
    "for num in my_list:\n",
    "    my_sum = my_sum + num\n",
    "print(my_sum)"
   ]
  },
  {
   "cell_type": "code",
   "execution_count": 124,
   "metadata": {},
   "outputs": [
    {
     "name": "stdout",
     "output_type": "stream",
     "text": [
      "1\n",
      "3\n",
      "6\n",
      "10\n",
      "15\n",
      "21\n",
      "28\n",
      "36\n",
      "45\n",
      "55\n"
     ]
    }
   ],
   "source": [
    "#If I place the print staement inside the for loop then...\n",
    "\n",
    "my_sum = 0\n",
    "my_list = [1,2,3,4,5,6,7,8,9,10]\n",
    "for num in my_list:\n",
    "    my_sum = my_sum + num\n",
    "    print(my_sum)"
   ]
  },
  {
   "cell_type": "code",
   "execution_count": 125,
   "metadata": {},
   "outputs": [
    {
     "name": "stdout",
     "output_type": "stream",
     "text": [
      "H\n",
      "e\n",
      "l\n",
      "l\n",
      "o\n",
      " \n",
      "W\n",
      "o\n",
      "r\n",
      "l\n",
      "d\n"
     ]
    }
   ],
   "source": [
    "#For loops can also be used on strings.\n",
    "my_string = \"Hello World\"\n",
    "for letter in  my_string:\n",
    "    print(letter)"
   ]
  },
  {
   "cell_type": "code",
   "execution_count": 126,
   "metadata": {},
   "outputs": [
    {
     "name": "stdout",
     "output_type": "stream",
     "text": [
      "2\n",
      "3\n",
      "4\n"
     ]
    }
   ],
   "source": [
    "#For loops can also be used on tuples.\n",
    "my_tuple =  (2,3,4)\n",
    "for num in my_tuple:\n",
    "    print(num)"
   ]
  },
  {
   "cell_type": "markdown",
   "metadata": {},
   "source": [
    "\n",
    "NOW NOTICE THE DIFFERENCE IN THE TWO CODES BELOW----"
   ]
  },
  {
   "cell_type": "code",
   "execution_count": 299,
   "metadata": {},
   "outputs": [
    {
     "name": "stdout",
     "output_type": "stream",
     "text": [
      "(1, 2)\n",
      "(3, 4)\n",
      "(5, 6)\n",
      "(7, 8)\n"
     ]
    }
   ],
   "source": [
    "my_list = [(1,2),(3,4),(5,6),(7,8)]\n",
    "for item in my_list:\n",
    "    print(item)"
   ]
  },
  {
   "cell_type": "code",
   "execution_count": 300,
   "metadata": {},
   "outputs": [
    {
     "name": "stdout",
     "output_type": "stream",
     "text": [
      "1\n",
      "2\n",
      "3\n",
      "4\n",
      "5\n",
      "6\n",
      "7\n",
      "8\n"
     ]
    }
   ],
   "source": [
    "my_list = [(1,2),(3,4),(5,6),(7,8)]\n",
    "for (a,b) in my_list:\n",
    "    print(a)\n",
    "    print(b)"
   ]
  },
  {
   "cell_type": "code",
   "execution_count": 303,
   "metadata": {},
   "outputs": [],
   "source": [
    "#This is called \"Tuple Unpacking\"**"
   ]
  },
  {
   "cell_type": "code",
   "execution_count": 304,
   "metadata": {},
   "outputs": [
    {
     "name": "stdout",
     "output_type": "stream",
     "text": [
      "2\n",
      "5\n",
      "8\n"
     ]
    }
   ],
   "source": [
    "my_list = [(1,2,3),(4,5,6),(7,8,9)]\n",
    "\n",
    "#Now lets say I want to print only the middle number of each tupple.\n",
    "\n",
    "for (a,b,c) in my_list:\n",
    "    print(b)"
   ]
  },
  {
   "cell_type": "markdown",
   "metadata": {},
   "source": [
    "**Using \"for\" loop for Dictionary**"
   ]
  },
  {
   "cell_type": "code",
   "execution_count": 153,
   "metadata": {},
   "outputs": [
    {
     "name": "stdout",
     "output_type": "stream",
     "text": [
      "k1\n",
      "k2\n",
      "k3\n"
     ]
    }
   ],
   "source": [
    "my_dictionary = {\"k1\":1, \"k2\":2, \"k3\":3}\n",
    "for item in my_dictionary:\n",
    "    print (item)\n",
    "    \n",
    "#Here what we can see is the \"for\" loop does not consider the values of the keys while printing..."
   ]
  },
  {
   "cell_type": "code",
   "execution_count": 155,
   "metadata": {},
   "outputs": [
    {
     "name": "stdout",
     "output_type": "stream",
     "text": [
      "('k1', 1)\n",
      "('k2', 2)\n",
      "('k3', 3)\n"
     ]
    }
   ],
   "source": [
    "#To make the \"for\" loop consider the values also, see the code below...\n",
    "\n",
    "my_dictionary = {\"k1\":1, \"k2\":2, \"k3\":3}\n",
    "for item in my_dictionary.items():\n",
    "    print (item)"
   ]
  },
  {
   "cell_type": "code",
   "execution_count": 156,
   "metadata": {},
   "outputs": [
    {
     "name": "stdout",
     "output_type": "stream",
     "text": [
      "k1\n",
      "1\n",
      "k2\n",
      "2\n",
      "k3\n",
      "3\n"
     ]
    }
   ],
   "source": [
    "#We can use the concept of \"tuple unpacking\" here also.\n",
    "\n",
    "my_dictionary = {\"k1\":1, \"k2\":2, \"k3\":3}\n",
    "for (key,value) in my_dictionary.items():\n",
    "    print (key)\n",
    "    print (value)"
   ]
  },
  {
   "cell_type": "markdown",
   "metadata": {},
   "source": [
    "# 9. \"While\" loops in Python"
   ]
  },
  {
   "cell_type": "markdown",
   "metadata": {},
   "source": [
    "The \"while\" loops will continue to execute a block of code WHILE some conditions remain true.\n",
    "\n",
    "For example, while my pool is not full keep filling my pool with water.\n",
    "\n",
    "Or, while my dogs are still hungry, keep feeding my dogs with food.\n",
    "\n",
    "We can also combine a \"with* statement with an \"else\" statement."
   ]
  },
  {
   "cell_type": "code",
   "execution_count": 14,
   "metadata": {},
   "outputs": [
    {
     "name": "stdout",
     "output_type": "stream",
     "text": [
      "The value of x is 0\n",
      "The value of x is 1\n",
      "The value of x is 2\n",
      "The value of x is 3\n",
      "The value of x is 4\n",
      "x is greater than 5\n"
     ]
    }
   ],
   "source": [
    "x = 0\n",
    "while x<5:\n",
    "    print (f\"The value of x is {x}\")\n",
    "    x = x + 1\n",
    "    #The above statement can also be writen as x += 1.Both are same.\n",
    "\n",
    "else:\n",
    "     print (\"x is greater than 5\")"
   ]
  },
  {
   "cell_type": "markdown",
   "metadata": {},
   "source": [
    "# 10. Break, Pass, and Continue\n",
    "\n",
    "We can use break, pass and continue statements in our loops to add additional funtionality for various cases.\n",
    "The three statements are defined by-\n",
    "\n",
    "1) **break**: breaks out of the current closest loop.\n",
    "\n",
    "2) **pass**: does nothing at all.\n",
    "\n",
    "3) **continue**: goes to the top of the closest loop."
   ]
  },
  {
   "cell_type": "code",
   "execution_count": 161,
   "metadata": {},
   "outputs": [
    {
     "name": "stdout",
     "output_type": "stream",
     "text": [
      "End of script.\n"
     ]
    }
   ],
   "source": [
    "x = [1,2,3]\n",
    "\n",
    "for item in x: \n",
    "    #If currently we are not sure of what condition to give here and we wish to keep a void space for editing later--\n",
    "    #In this case we use the \"pass\" command to left an unfilled space in loop.\n",
    "    #In this way, the python won't show any error.\n",
    "    pass\n",
    "print (\"End of script.\")"
   ]
  },
  {
   "cell_type": "code",
   "execution_count": 8,
   "metadata": {},
   "outputs": [
    {
     "name": "stdout",
     "output_type": "stream",
     "text": [
      "P\n",
      "r\n",
      "e\n",
      "e\n",
      "a\n",
      "m\n"
     ]
    }
   ],
   "source": [
    "my_string = \"Preetam\"\n",
    "for letter in my_string:\n",
    "    \n",
    "    if letter == 't':\n",
    "        \n",
    "        continue \n",
    "        #Now lets say I donot want to print the letter 't'. In this case I will use 'continue' command.\n",
    "        #This means \"DO NOT TAKE ANY ACTION\".\n",
    "        \n",
    "    print (letter)\n",
    "    \n",
    "    #USE OF CONTINUE:\n",
    "    #CONTINUE IS THE REPLACEMENT OF 2 LINES:\n",
    "      #pass <<<---\n",
    "    #else: <<<---\n",
    "      #print (letter)        "
   ]
  },
  {
   "cell_type": "code",
   "execution_count": 9,
   "metadata": {},
   "outputs": [
    {
     "name": "stdout",
     "output_type": "stream",
     "text": [
      "0\n",
      "1\n"
     ]
    }
   ],
   "source": [
    "#The \"break\" command is used to stop/break a loop in the middle.\n",
    "\n",
    "x = 0\n",
    "while x < 5:\n",
    "     \n",
    "    print(x)\n",
    "    x = x + 1\n",
    "    \n",
    "    if x == 2: #Now suppose we want to break this loop when x becomes equal to 2.\n",
    "        break"
   ]
  },
  {
   "cell_type": "markdown",
   "metadata": {},
   "source": [
    "# 11. USE OF RANGE FUNCTION:"
   ]
  },
  {
   "cell_type": "code",
   "execution_count": 10,
   "metadata": {},
   "outputs": [
    {
     "name": "stdout",
     "output_type": "stream",
     "text": [
      "0\n",
      "1\n",
      "2\n",
      "3\n",
      "4\n",
      "5\n",
      "6\n",
      "7\n",
      "8\n",
      "9\n"
     ]
    }
   ],
   "source": [
    "#This 'range' funtion is used to create a simple list of integers.\n",
    "#Syntax is range(start,stop(but not included),step size)\n",
    "#Start and step size are optional.\n",
    "\n",
    "for num in range(10):\n",
    "    print(num) "
   ]
  },
  {
   "cell_type": "code",
   "execution_count": 11,
   "metadata": {},
   "outputs": [
    {
     "name": "stdout",
     "output_type": "stream",
     "text": [
      "2\n",
      "4\n",
      "6\n",
      "8\n",
      "10\n",
      "12\n",
      "14\n",
      "16\n",
      "18\n"
     ]
    }
   ],
   "source": [
    "#Suppose we want to print a list of integers starting from number 2 upto 20 and having a step size of 2.\n",
    "for num in range(2,20,2):\n",
    "    print(num)\n",
    "    \n",
    "#Here 20 is the stopping point and not included in the list."
   ]
  },
  {
   "cell_type": "markdown",
   "metadata": {},
   "source": [
    "**Another use of range**"
   ]
  },
  {
   "cell_type": "code",
   "execution_count": 12,
   "metadata": {},
   "outputs": [
    {
     "data": {
      "text/plain": [
       "[6, 9, 12, 15, 18, 21, 24, 27]"
      ]
     },
     "execution_count": 12,
     "metadata": {},
     "output_type": "execute_result"
    }
   ],
   "source": [
    "list(range(6,30,3)) #Generate a list of 6 to 30 in step size of 3."
   ]
  },
  {
   "cell_type": "markdown",
   "metadata": {},
   "source": [
    "# 12. USE OF ENUMERATE FUNCTION:"
   ]
  },
  {
   "cell_type": "code",
   "execution_count": 13,
   "metadata": {},
   "outputs": [
    {
     "name": "stdout",
     "output_type": "stream",
     "text": [
      "The index of p is 0.\n",
      "The index of r is 1.\n",
      "The index of e is 2.\n",
      "The index of e is 3.\n",
      "The index of t is 4.\n",
      "The index of a is 5.\n",
      "The index of m is 6.\n"
     ]
    }
   ],
   "source": [
    "index_count = 0\n",
    "my_string = 'preetam'\n",
    "for letter in my_string:\n",
    "    print ('The index of {} is {}.'.format(letter,index_count))\n",
    "    index_count += 1"
   ]
  },
  {
   "cell_type": "code",
   "execution_count": 22,
   "metadata": {},
   "outputs": [
    {
     "name": "stdout",
     "output_type": "stream",
     "text": [
      "(0, 'p')\n",
      "(1, 'r')\n",
      "(2, 'e')\n",
      "(3, 'e')\n",
      "(4, 't')\n",
      "(5, 'a')\n",
      "(6, 'm')\n"
     ]
    }
   ],
   "source": [
    "my_string = 'preetam'\n",
    "for item in enumerate(my_string):\n",
    "    print(item)\n",
    "\n",
    "#Now as soon we use the enumerate function python automatically prints the index position values for each letter.  "
   ]
  },
  {
   "cell_type": "code",
   "execution_count": 16,
   "metadata": {},
   "outputs": [
    {
     "name": "stdout",
     "output_type": "stream",
     "text": [
      "p\n",
      "0\n",
      "\n",
      "\n",
      "r\n",
      "1\n",
      "\n",
      "\n",
      "e\n",
      "2\n",
      "\n",
      "\n",
      "e\n",
      "3\n",
      "\n",
      "\n",
      "t\n",
      "4\n",
      "\n",
      "\n",
      "a\n",
      "5\n",
      "\n",
      "\n",
      "m\n",
      "6\n",
      "\n",
      "\n"
     ]
    }
   ],
   "source": [
    "#Now here we can use the tuple unpacking and print the letters and the index separately.\n",
    "\n",
    "my_string = 'preetam'\n",
    "for (index,letter) in enumerate(my_string):\n",
    "    print(letter)\n",
    "    print(index)\n",
    "    print('\\n') \n",
    "    #Adding gap after every pair of letter,index.\n",
    "    #Notice the quotation marks arround line break command."
   ]
  },
  {
   "cell_type": "markdown",
   "metadata": {},
   "source": [
    "# 13. USE OF ZIP FUNCTION."
   ]
  },
  {
   "cell_type": "code",
   "execution_count": 18,
   "metadata": {},
   "outputs": [
    {
     "name": "stdout",
     "output_type": "stream",
     "text": [
      "('a', 1)\n",
      "('b', 2)\n",
      "('c', 3)\n"
     ]
    }
   ],
   "source": [
    "my_letters = ['a','b','c']\n",
    "my_numbers = [1,2,3]\n",
    "\n",
    "for item in zip(my_letters,my_numbers):\n",
    "    print(item)\n",
    "\n",
    "#The zip function just entangles/joins the elements of both the list and creates a list of tuples out of it."
   ]
  },
  {
   "cell_type": "code",
   "execution_count": 19,
   "metadata": {},
   "outputs": [
    {
     "name": "stdout",
     "output_type": "stream",
     "text": [
      "('a', 1, 'preetam')\n",
      "('b', 2, 'pradhugyna')\n",
      "('c', 3, 'arunangshu')\n"
     ]
    }
   ],
   "source": [
    "my_letters = ['a','b','c']\n",
    "my_numbers = [1,2,3]\n",
    "my_names = ['preetam', 'pradhugyna', 'arunangshu']\n",
    "\n",
    "for item in zip(my_letters,my_numbers,my_names):\n",
    "    print(item)"
   ]
  },
  {
   "cell_type": "code",
   "execution_count": 40,
   "metadata": {},
   "outputs": [
    {
     "data": {
      "text/plain": [
       "[('a', 1, 'preetam'), ('b', 2, 'pradhugyna'), ('c', 3, 'arunangshu')]"
      ]
     },
     "execution_count": 40,
     "metadata": {},
     "output_type": "execute_result"
    }
   ],
   "source": [
    "list(zip(my_letters,my_numbers,my_names))\n",
    "\n",
    "# To make a list out of the all tuples created by the zip() function. "
   ]
  },
  {
   "cell_type": "markdown",
   "metadata": {},
   "source": [
    "# 14. USE OF 'MIN' & 'MAX' FUNCTION"
   ]
  },
  {
   "cell_type": "code",
   "execution_count": 342,
   "metadata": {},
   "outputs": [],
   "source": [
    "my_list = [1,2,3,4,5,6,7,8,9]"
   ]
  },
  {
   "cell_type": "code",
   "execution_count": 343,
   "metadata": {},
   "outputs": [
    {
     "data": {
      "text/plain": [
       "1"
      ]
     },
     "execution_count": 343,
     "metadata": {},
     "output_type": "execute_result"
    }
   ],
   "source": [
    "min(my_list) \n",
    "#This will give me the minimum value of my_list."
   ]
  },
  {
   "cell_type": "code",
   "execution_count": 344,
   "metadata": {},
   "outputs": [
    {
     "data": {
      "text/plain": [
       "9"
      ]
     },
     "execution_count": 344,
     "metadata": {},
     "output_type": "execute_result"
    }
   ],
   "source": [
    "max(my_list)\n",
    "#This will give me the maximum value of my_list."
   ]
  },
  {
   "cell_type": "markdown",
   "metadata": {},
   "source": [
    "# 15. USE OF \"RANDOM\" LIBRARY: IMPORTING FUNCTIONS FROM A LIBRARY"
   ]
  },
  {
   "cell_type": "code",
   "execution_count": 24,
   "metadata": {},
   "outputs": [
    {
     "name": "stdout",
     "output_type": "stream",
     "text": [
      "[8, 4, 2, 9, 3, 7, 5, 1, 6]\n"
     ]
    }
   ],
   "source": [
    "from random import shuffle\n",
    "#It says, from the \"random\" library, we are importing a function \"shuffle\"\n",
    "\n",
    "my_list = [1,2,3,4,5,6,7,8,9]\n",
    "\n",
    "shuffle(my_list)\n",
    "\n",
    "print(my_list)\n",
    "#The 'shuffle' function shuffles the elements inside a list."
   ]
  },
  {
   "cell_type": "code",
   "execution_count": 30,
   "metadata": {},
   "outputs": [
    {
     "data": {
      "text/plain": [
       "249"
      ]
     },
     "execution_count": 30,
     "metadata": {},
     "output_type": "execute_result"
    }
   ],
   "source": [
    "from random import randint\n",
    "#The 'randint' function is used to print a random number within a given range.\n",
    "\n",
    "randint(0,300) \n",
    "\n",
    "#Grab a random int between 0 to 300.\n",
    "#Everytime we run the code, it will give a different output."
   ]
  },
  {
   "cell_type": "markdown",
   "metadata": {},
   "source": [
    "# 16. HOW TO ACCEPT USER INPUT"
   ]
  },
  {
   "cell_type": "code",
   "execution_count": 31,
   "metadata": {},
   "outputs": [
    {
     "name": "stdout",
     "output_type": "stream",
     "text": [
      "Enter your age: 24\n"
     ]
    }
   ],
   "source": [
    "# We can ask for user input using the 'input()' function.\n",
    "# We can also store the user input inside a variable so that we can use it later.\n",
    "\n",
    "user_age = input('Enter your age: ')\n",
    "\n",
    "# Now the input given by user will be stored inside the user_age variable."
   ]
  },
  {
   "cell_type": "code",
   "execution_count": 32,
   "metadata": {},
   "outputs": [],
   "source": [
    "#The input function always accepts the inputs as String.\n",
    "#We can convert the inputs as per our need into float/integer value."
   ]
  },
  {
   "cell_type": "code",
   "execution_count": 33,
   "metadata": {},
   "outputs": [
    {
     "data": {
      "text/plain": [
       "24.0"
      ]
     },
     "execution_count": 33,
     "metadata": {},
     "output_type": "execute_result"
    }
   ],
   "source": [
    "float(user_age)"
   ]
  },
  {
   "cell_type": "code",
   "execution_count": 34,
   "metadata": {},
   "outputs": [
    {
     "data": {
      "text/plain": [
       "24"
      ]
     },
     "execution_count": 34,
     "metadata": {},
     "output_type": "execute_result"
    }
   ],
   "source": [
    "int(user_age)"
   ]
  },
  {
   "cell_type": "code",
   "execution_count": 2,
   "metadata": {},
   "outputs": [],
   "source": [
    "#We can do this in one line of code also. "
   ]
  },
  {
   "cell_type": "code",
   "execution_count": 35,
   "metadata": {},
   "outputs": [
    {
     "name": "stdout",
     "output_type": "stream",
     "text": [
      "Enter your age: 23\n"
     ]
    }
   ],
   "source": [
    "my_age = int(input('Enter your age: '))"
   ]
  },
  {
   "cell_type": "code",
   "execution_count": 36,
   "metadata": {},
   "outputs": [
    {
     "data": {
      "text/plain": [
       "int"
      ]
     },
     "execution_count": 36,
     "metadata": {},
     "output_type": "execute_result"
    }
   ],
   "source": [
    "type(my_age)"
   ]
  },
  {
   "cell_type": "markdown",
   "metadata": {},
   "source": [
    "# 17. LIST COMPREHENSIONS - VERY USEFUL TRICK!"
   ]
  },
  {
   "cell_type": "markdown",
   "metadata": {},
   "source": [
    "**List comprehensions are a unique way of quickly creating a list in Python.**"
   ]
  },
  {
   "cell_type": "code",
   "execution_count": 37,
   "metadata": {},
   "outputs": [
    {
     "name": "stdout",
     "output_type": "stream",
     "text": [
      "['p', 'r', 'e', 'e', 't', 'a', 'm']\n"
     ]
    }
   ],
   "source": [
    "my_string = 'preetam'\n",
    "\n",
    "# Declaring an empty list.\n",
    "my_list = []\n",
    "\n",
    "for letter in my_string:\n",
    "    my_list.append(letter)\n",
    "    # It means that \"for every leter in my_string, append the letter to the  my_list.\"\n",
    "    \n",
    "print(my_list)"
   ]
  },
  {
   "cell_type": "code",
   "execution_count": 8,
   "metadata": {},
   "outputs": [],
   "source": [
    "#There is a more efficient way to create a list in Python...."
   ]
  },
  {
   "cell_type": "code",
   "execution_count": 38,
   "metadata": {},
   "outputs": [
    {
     "name": "stdout",
     "output_type": "stream",
     "text": [
      "['p', 'r', 'e', 'e', 't', 'a', 'm']\n"
     ]
    }
   ],
   "source": [
    "my_string = 'preetam'\n",
    "my_list = [letter for letter in my_string] #It means print that letter inside the list for every letter in my_string.\n",
    "\n",
    "print(my_list)"
   ]
  },
  {
   "cell_type": "markdown",
   "metadata": {},
   "source": [
    "**Another Example**"
   ]
  },
  {
   "cell_type": "code",
   "execution_count": 14,
   "metadata": {},
   "outputs": [
    {
     "name": "stdout",
     "output_type": "stream",
     "text": [
      "[0, 1, 2, 3, 4, 5, 6, 7, 8, 9, 10, 11, 12, 13, 14, 15, 16, 17, 18, 19, 20, 21, 22, 23, 24, 25, 26, 27, 28, 29]\n"
     ]
    }
   ],
   "source": [
    "my_list = [num for num in range(0,30)]\n",
    "print (my_list)"
   ]
  },
  {
   "cell_type": "code",
   "execution_count": 15,
   "metadata": {},
   "outputs": [
    {
     "name": "stdout",
     "output_type": "stream",
     "text": [
      "[0, 1, 4, 9, 16, 25, 36, 49, 64, 81, 100, 121, 144, 169, 196, 225, 256, 289, 324, 361, 400, 441, 484, 529, 576, 625, 676, 729, 784, 841]\n"
     ]
    }
   ],
   "source": [
    "#We can also perform operations on each number in the list all at the same time.\n",
    "#For example we can square each number on the list.\n",
    "\n",
    "my_list = [num**2 for num in range(0,30)]\n",
    "print (my_list)"
   ]
  },
  {
   "cell_type": "code",
   "execution_count": 39,
   "metadata": {},
   "outputs": [
    {
     "name": "stdout",
     "output_type": "stream",
     "text": [
      "[0, 2, 4, 6, 8, 10, 12, 14, 16, 18, 20, 22, 24, 26, 28]\n"
     ]
    }
   ],
   "source": [
    "#We can also use if statement inside the lists.\n",
    "#For example lets say we want only even numbers in our list between 0 to 30.\n",
    "\n",
    "my_list = [num for num in range(0,30) if num%2 == 0]\n",
    "print (my_list)"
   ]
  },
  {
   "cell_type": "code",
   "execution_count": 20,
   "metadata": {},
   "outputs": [
    {
     "name": "stdout",
     "output_type": "stream",
     "text": [
      "[32.0, 95.0, 134.60000000000002, 186.8, 73.4, 172.4]\n"
     ]
    }
   ],
   "source": [
    "#Converting the Celsius temperature to Farenheit. \n",
    "#Formula is (9/5)*temp + 32.\n",
    "\n",
    "celsius = [0,35,57,86,23,78] #These are the temperatures in celsius.\n",
    "\n",
    "fahrenheit = [(temp*(9/5)+32) for temp in celsius]\n",
    "print(fahrenheit)"
   ]
  },
  {
   "cell_type": "code",
   "execution_count": 21,
   "metadata": {},
   "outputs": [
    {
     "name": "stdout",
     "output_type": "stream",
     "text": [
      "[32.0, 95.0, 134.60000000000002, 186.8, 73.4, 172.4]\n"
     ]
    }
   ],
   "source": [
    "#We can acheive the same results using 'for' loop also.\n",
    "\n",
    "celsius = [0,35,57,86,23,78]\n",
    "fahrenheit = []\n",
    "\n",
    "for temp in celsius: \n",
    "    fahrenheit.append((9/5)*temp+32)\n",
    "print (fahrenheit)\n",
    "\n",
    "#List Comprehension technique requires less lines of code."
   ]
  },
  {
   "cell_type": "code",
   "execution_count": 35,
   "metadata": {},
   "outputs": [
    {
     "name": "stdout",
     "output_type": "stream",
     "text": [
      "['ODD', 2, 'ODD', 4, 'ODD', 6, 'ODD', 8, 'ODD', 10, 'ODD', 12, 'ODD', 14, 'ODD', 16, 'ODD', 18, 'ODD', 20]\n"
     ]
    }
   ],
   "source": [
    "#We can also use if-else inside a list.\n",
    "\n",
    "my_list = [1,2,3,4,5,6,7,8,9,10,11,12,13,14,15,16,117,18,19,20]\n",
    "\n",
    "my_list2 =[num if num%2 == 0 else 'ODD' for num in my_list ]\n",
    "#It means print the number in my_list2 if it is even else print odd for every number in my_list.\n",
    "\n",
    "print(my_list2)"
   ]
  },
  {
   "cell_type": "code",
   "execution_count": 36,
   "metadata": {},
   "outputs": [
    {
     "name": "stdout",
     "output_type": "stream",
     "text": [
      "[2, 6, 10, 4, 12, 20, 6, 18, 30]\n"
     ]
    }
   ],
   "source": [
    "#Multiplying each number of one list with each numnber of another list and creating a new list out of results.\n",
    "#There are 2 ways to do this..\n",
    "#Way 1:\n",
    "\n",
    "my_list = []\n",
    "for x in [2,4,6]:\n",
    "    for y in [1,3,5]:\n",
    "        my_list.append(x*y)\n",
    "print(my_list)"
   ]
  },
  {
   "cell_type": "code",
   "execution_count": 38,
   "metadata": {},
   "outputs": [
    {
     "name": "stdout",
     "output_type": "stream",
     "text": [
      "[2, 6, 10, 4, 12, 20, 6, 18, 30]\n"
     ]
    }
   ],
   "source": [
    "#Way 2: Single line code\n",
    "\n",
    "my_list =[x*y for x in [2,4,6] for y in [1,3,5]]\n",
    "print (my_list)"
   ]
  },
  {
   "cell_type": "markdown",
   "metadata": {},
   "source": [
    "# 18.USE OF HELP FUNCTION "
   ]
  },
  {
   "cell_type": "markdown",
   "metadata": {},
   "source": [
    "**The 'help' function is used to learn about the utility of various built-in functions in Python.**"
   ]
  },
  {
   "cell_type": "code",
   "execution_count": 42,
   "metadata": {},
   "outputs": [
    {
     "name": "stdout",
     "output_type": "stream",
     "text": [
      "Help on built-in function append:\n",
      "\n",
      "append(object, /) method of builtins.list instance\n",
      "    Append object to the end of the list.\n",
      "\n"
     ]
    }
   ],
   "source": [
    "help(my_list.append)"
   ]
  },
  {
   "cell_type": "code",
   "execution_count": 43,
   "metadata": {},
   "outputs": [
    {
     "name": "stdout",
     "output_type": "stream",
     "text": [
      "Help on built-in function pop:\n",
      "\n",
      "pop(index=-1, /) method of builtins.list instance\n",
      "    Remove and return item at index (default last).\n",
      "    \n",
      "    Raises IndexError if list is empty or index is out of range.\n",
      "\n"
     ]
    }
   ],
   "source": [
    "help(my_list.pop)"
   ]
  },
  {
   "cell_type": "code",
   "execution_count": 44,
   "metadata": {},
   "outputs": [
    {
     "name": "stdout",
     "output_type": "stream",
     "text": [
      "Help on built-in function clear:\n",
      "\n",
      "clear() method of builtins.list instance\n",
      "    Remove all items from list.\n",
      "\n"
     ]
    }
   ],
   "source": [
    "help(my_list.clear)"
   ]
  },
  {
   "cell_type": "markdown",
   "metadata": {},
   "source": [
    "# 19. def keyword: CREATING FUNCTIONS IN PYTHON"
   ]
  },
  {
   "cell_type": "markdown",
   "metadata": {},
   "source": [
    "**Funtions allow us to create blocks of code that can be easily executed many times, without requiring to constantly \n",
    "rewrite the entire block of code.**"
   ]
  },
  {
   "cell_type": "markdown",
   "metadata": {},
   "source": [
    "**Functions will be a huge leap forward in your abilities as a programmer.**"
   ]
  },
  {
   "cell_type": "markdown",
   "metadata": {},
   "source": [
    "**This means that you will be able to solve a lot harder problems.**"
   ]
  },
  {
   "cell_type": "code",
   "execution_count": 41,
   "metadata": {},
   "outputs": [
    {
     "name": "stdout",
     "output_type": "stream",
     "text": [
      "Hello!\n"
     ]
    }
   ],
   "source": [
    "#A simple example of creating a funtion to print \"Hello\".\n",
    "\n",
    "def say_hello():\n",
    "    print(\"Hello!\") \n",
    "\n",
    "say_hello() #Calling the funtion.\n",
    "\n",
    "#While calling the function we must add parenthesis () after the name of the funtion."
   ]
  },
  {
   "cell_type": "code",
   "execution_count": 42,
   "metadata": {},
   "outputs": [
    {
     "name": "stdout",
     "output_type": "stream",
     "text": [
      "Hello!Preeetam\n"
     ]
    }
   ],
   "source": [
    "#Using a variable inside a function.\n",
    "\n",
    "def say_hello(name):\n",
    "    print(f\"Hello!{name}\") #Note that the variable name can be anything! \n",
    "\n",
    "say_hello(\"Preeetam\") #While calling the function you need to specify the value of the variable."
   ]
  },
  {
   "cell_type": "code",
   "execution_count": 43,
   "metadata": {},
   "outputs": [
    {
     "name": "stdout",
     "output_type": "stream",
     "text": [
      "Hello!Preetam\n"
     ]
    }
   ],
   "source": [
    "#We can also give a default value to the variable inside the function.\n",
    "#Then every time we call the function we do not have to specify the value of the variables.\n",
    "\n",
    "def say_hello(name = 'Preetam'):\n",
    "    print(f\"Hello!{name}\") \n",
    "\n",
    "say_hello()"
   ]
  },
  {
   "cell_type": "markdown",
   "metadata": {},
   "source": [
    "**Using 'return' inside a function**"
   ]
  },
  {
   "cell_type": "code",
   "execution_count": 44,
   "metadata": {},
   "outputs": [],
   "source": [
    "# return command is similar to print() command in terms of usage. \n",
    "# An example:\n",
    "\n",
    "def add_num(num1,num2):\n",
    "    return num1 + num2"
   ]
  },
  {
   "cell_type": "code",
   "execution_count": 53,
   "metadata": {},
   "outputs": [
    {
     "data": {
      "text/plain": [
       "30"
      ]
     },
     "execution_count": 53,
     "metadata": {},
     "output_type": "execute_result"
    }
   ],
   "source": [
    "add_num(10,20)"
   ]
  },
  {
   "cell_type": "markdown",
   "metadata": {},
   "source": [
    "**We can also use 'return' and 'print' commands simultaneously inside a function so, that we can print (see ourselves) the \n",
    "the result and also be able to save the result inside a variable.** "
   ]
  },
  {
   "cell_type": "code",
   "execution_count": 46,
   "metadata": {},
   "outputs": [
    {
     "name": "stdout",
     "output_type": "stream",
     "text": [
      "30\n"
     ]
    }
   ],
   "source": [
    "def add_num(num1,num2):\n",
    "    return num1 + num2\n",
    "\n",
    "result = add_num(10,20)\n",
    "print (result)"
   ]
  },
  {
   "cell_type": "markdown",
   "metadata": {},
   "source": [
    "# 20. LOGIC WITH PYTHON FUNCTIONS"
   ]
  },
  {
   "cell_type": "code",
   "execution_count": 63,
   "metadata": {},
   "outputs": [],
   "source": [
    "#A PROGRAM TO CHECK IF A NUMBER IS EVEN OR NOT.\n",
    "\n",
    "def even_check(number):\n",
    "    return number%2 == 0"
   ]
  },
  {
   "cell_type": "code",
   "execution_count": 64,
   "metadata": {},
   "outputs": [
    {
     "data": {
      "text/plain": [
       "True"
      ]
     },
     "execution_count": 64,
     "metadata": {},
     "output_type": "execute_result"
    }
   ],
   "source": [
    "even_check(20)"
   ]
  },
  {
   "cell_type": "code",
   "execution_count": 65,
   "metadata": {},
   "outputs": [
    {
     "data": {
      "text/plain": [
       "False"
      ]
     },
     "execution_count": 65,
     "metadata": {},
     "output_type": "execute_result"
    }
   ],
   "source": [
    "even_check(47)"
   ]
  },
  {
   "cell_type": "code",
   "execution_count": 50,
   "metadata": {},
   "outputs": [],
   "source": [
    "# A PROGRAM TO CHECK IF ALL THE NUMBERS INSIDE A LIST ARE EVEN OR NOT.\n",
    "# IF ALL THE NUMBERS INSIDE A LIST ARE EVEN THE FUNCTION WILL RETURN 'TRUE'.\n",
    "# IF ALL THE NUMBERS INMSIDE A LIST ARE NOT EVEN THEN THE FUNCTION WILL RETURN 'FALSE'.\n",
    "\n",
    "def even_check_list(my_list):\n",
    "    for number in my_list:   \n",
    "        if number%2 == 0:    \n",
    "            return True      \n",
    "        else:\n",
    "            return False"
   ]
  },
  {
   "cell_type": "code",
   "execution_count": 51,
   "metadata": {},
   "outputs": [
    {
     "data": {
      "text/plain": [
       "False"
      ]
     },
     "execution_count": 51,
     "metadata": {},
     "output_type": "execute_result"
    }
   ],
   "source": [
    "even_check_list([1,2,3])"
   ]
  },
  {
   "cell_type": "code",
   "execution_count": 52,
   "metadata": {},
   "outputs": [
    {
     "data": {
      "text/plain": [
       "False"
      ]
     },
     "execution_count": 52,
     "metadata": {},
     "output_type": "execute_result"
    }
   ],
   "source": [
    "even_check_list([1,3,5])"
   ]
  },
  {
   "cell_type": "code",
   "execution_count": 78,
   "metadata": {},
   "outputs": [],
   "source": [
    "#Now if I say I have have to return all the even numbers in the list....\n",
    "\n",
    "even_numbers = [] #Creating an empty list #Place Holder.\n",
    "\n",
    "def even_check_list(my_list):\n",
    "    for number in my_list:   \n",
    "        if number%2 == 0:   \n",
    "            even_numbers.append(number) #If the number is even, append it to the list of even_numbers.     \n",
    "        else:          \n",
    "            pass\n",
    "    return(even_numbers) #After checking every number in the list, return the list of even numbers.\n"
   ]
  },
  {
   "cell_type": "code",
   "execution_count": 79,
   "metadata": {},
   "outputs": [
    {
     "data": {
      "text/plain": [
       "[2, 4, 6, 8]"
      ]
     },
     "execution_count": 79,
     "metadata": {},
     "output_type": "execute_result"
    }
   ],
   "source": [
    "even_check_list([1,2,3,4,5,6,7,8,9])"
   ]
  },
  {
   "cell_type": "code",
   "execution_count": 80,
   "metadata": {},
   "outputs": [
    {
     "data": {
      "text/plain": [
       "[2, 4, 6, 8, 56, 78, 100, 20]"
      ]
     },
     "execution_count": 80,
     "metadata": {},
     "output_type": "execute_result"
    }
   ],
   "source": [
    "even_check_list([23,56,78,97,100,45,667,339,20,87])"
   ]
  },
  {
   "cell_type": "markdown",
   "metadata": {},
   "source": [
    "# 21. TUPLE UNPACKING WITH PYTHON FUNCTIONS"
   ]
  },
  {
   "cell_type": "code",
   "execution_count": 55,
   "metadata": {},
   "outputs": [],
   "source": [
    "#Let us create a program to find the employee of the month by comparing their working hours in a month.\n",
    "\n",
    "employee_hours_list  = [(\"Preetam\",200),(\"Rohit\",250),(\"Snigdha\",600),(\"Bikash\",400),(\"Prahugyna\",450)]\n",
    "#First I provided a list of tuples consisting of (employee,working hours).\n",
    "\n",
    "def employee_of_the_month(employee_hours_list): #I created a function which will consider my given list.\n",
    "    \n",
    "    hours = 0 #Inside the funtion I am declaring a variable hours with value 0. \n",
    "    employee_of_the_month='' #Also I am declaring an empty string.\n",
    "    \n",
    "    for employee,work_hours in employee_hours_list: #Check for every employee,work_hours in the given list.\n",
    "        if work_hours>hours:\n",
    "            hours = work_hours  #If the work_hours is greater than the current hours value then update the hours value.\n",
    "            employee_of_the_month = employee  #And update the corresponding employee_of_the_month.\n",
    "        else:\n",
    "            pass \n",
    "        #Else if new work_hours value is less than the last hours value updated then 'pass'i.e dont update anything.\n",
    "         \n",
    "    return (employee_of_the_month,hours)  \n",
    "   #After checking the whole given list i.e completing the for loop for all items given, return the final (employee_of_the_month,hours)    "
   ]
  },
  {
   "cell_type": "code",
   "execution_count": 56,
   "metadata": {},
   "outputs": [
    {
     "data": {
      "text/plain": [
       "('Snigdha', 600)"
      ]
     },
     "execution_count": 56,
     "metadata": {},
     "output_type": "execute_result"
    }
   ],
   "source": [
    "employee_of_the_month(employee_hours_list)"
   ]
  },
  {
   "cell_type": "markdown",
   "metadata": {},
   "source": [
    "So, our employ of the month is 'Snigdha' with 600 hours"
   ]
  },
  {
   "cell_type": "markdown",
   "metadata": {},
   "source": [
    "Now we can use Tuple unpacking with the results too."
   ]
  },
  {
   "cell_type": "code",
   "execution_count": 57,
   "metadata": {},
   "outputs": [],
   "source": [
    "name,hours = employee_of_the_month(employee_hours_list)"
   ]
  },
  {
   "cell_type": "code",
   "execution_count": 58,
   "metadata": {},
   "outputs": [
    {
     "data": {
      "text/plain": [
       "'Snigdha'"
      ]
     },
     "execution_count": 58,
     "metadata": {},
     "output_type": "execute_result"
    }
   ],
   "source": [
    "name"
   ]
  },
  {
   "cell_type": "code",
   "execution_count": 59,
   "metadata": {},
   "outputs": [
    {
     "data": {
      "text/plain": [
       "600"
      ]
     },
     "execution_count": 59,
     "metadata": {},
     "output_type": "execute_result"
    }
   ],
   "source": [
    "hours"
   ]
  },
  {
   "cell_type": "markdown",
   "metadata": {},
   "source": [
    "# 22. THE $*$args AND $**$kwargs IN PYTHON"
   ]
  },
  {
   "cell_type": "markdown",
   "metadata": {},
   "source": [
    "***args stands for 'arguments'** \n",
    "\n",
    "If we place *args inside bracket in the place of arguments while defining a function, it allows us to place as \n",
    "many arguments/function variables as we wish inside the function while calling it.\n",
    "\n",
    "Basically, it allows us to work with infinite number of varibles (as per our wish) inside a function."
   ]
  },
  {
   "cell_type": "markdown",
   "metadata": {},
   "source": [
    "**Example: Difference between using *args and NOT using *args.**"
   ]
  },
  {
   "cell_type": "code",
   "execution_count": null,
   "metadata": {},
   "outputs": [],
   "source": [
    "#A function to add ONLY 2 numbers:\n",
    "\n",
    "def myfunc(a,b):\n",
    "    return sum((a,b)) \n",
    "#We are using double brackets here because sum function only accepts tuples."
   ]
  },
  {
   "cell_type": "code",
   "execution_count": 17,
   "metadata": {},
   "outputs": [
    {
     "data": {
      "text/plain": [
       "100"
      ]
     },
     "execution_count": 17,
     "metadata": {},
     "output_type": "execute_result"
    }
   ],
   "source": [
    "myfunc(40,60)"
   ]
  },
  {
   "cell_type": "code",
   "execution_count": null,
   "metadata": {},
   "outputs": [],
   "source": [
    "#A function to add ANY amount of numbers: (using *args)\n",
    "\n",
    "def myfunc(*args):     #*arg signifies that the user may enter any number of arguments.\n",
    "    return sum(args)   #sum(args) signifies all the arguments passed on will be accepted as a single tuple by default. \n",
    "                       #Here double brackets are not required."
   ]
  },
  {
   "cell_type": "code",
   "execution_count": 19,
   "metadata": {},
   "outputs": [
    {
     "data": {
      "text/plain": [
       "55"
      ]
     },
     "execution_count": 19,
     "metadata": {},
     "output_type": "execute_result"
    }
   ],
   "source": [
    "#Now I will call the 'myfunc' function and I will give as much number of arguments/variables as I desire...\n",
    "\n",
    "#Lets us find the sum of all numbers from 1 to 10.\n",
    "\n",
    "myfunc(1,2,3,4,5,6,7,8,9,10)"
   ]
  },
  {
   "cell_type": "markdown",
   "metadata": {},
   "source": [
    "**It is worth noting that the word \"args\" is itself arbitrary - any word will do so long as it's preceded by an asterisk'*'. To demonstrate this:**"
   ]
  },
  {
   "cell_type": "code",
   "execution_count": 21,
   "metadata": {},
   "outputs": [
    {
     "data": {
      "text/plain": [
       "557"
      ]
     },
     "execution_count": 21,
     "metadata": {},
     "output_type": "execute_result"
    }
   ],
   "source": [
    "def myfunc(*spam):\n",
    "    return sum(spam)\n",
    "\n",
    "myfunc(40,60,20,78,56,35,67,89,60,14,38)"
   ]
  },
  {
   "cell_type": "markdown",
   "metadata": {},
   "source": [
    "****kwargs stands for 'keyworded arguments'** \n",
    "\n",
    "The special syntax ****kwargs** in function definitions in python is used to pass a keyworded, variable-length argument list. We use the name kwargs with the double star.\n",
    "\n",
    "A **keyword argument** is where you provide a name to the variable as you pass it into the function."
   ]
  },
  {
   "cell_type": "code",
   "execution_count": 5,
   "metadata": {},
   "outputs": [
    {
     "name": "stdout",
     "output_type": "stream",
     "text": [
      "Preetam worked 100 hours.\n",
      "Bikash worked 200 hours.\n",
      "Rohit worked 250 hours.\n",
      "Pradhugyna worked 150 hours.\n"
     ]
    }
   ],
   "source": [
    "#Python program to illustrate use of **kwargs argument.\n",
    "\n",
    "def myfunc(**kwargs):\n",
    "    \n",
    "    for key,value in kwargs.items(): \n",
    "    # Remember this syntax!\n",
    "    # Notice here we do not write ** infront of kwargs again.\n",
    "    \n",
    "        print (\"{} worked {} hours.\".format(key,value))\n",
    "\n",
    "myfunc(Preetam=100, Bikash=200, Rohit=250, Pradhugyna=150)\n",
    "\n",
    "# When we enter kwargs or keyworded arguments inside our function\n",
    "# they are entered in the form of ---- function(key1 = value1, key2 = value2)"
   ]
  },
  {
   "cell_type": "code",
   "execution_count": 8,
   "metadata": {},
   "outputs": [],
   "source": [
    "#Another example:\n",
    "\n",
    "def myfunc(**kwargs): \n",
    "    \n",
    "    if 'fruit' in kwargs: #If 'fruit' keyword is included in the keyworded argument entered..\n",
    "        print (\"My favorite fruit is {}.\".format(kwargs['fruit']))\n",
    "        \n",
    "    else:      #If 'fruit' keyword NOT is included in the keyword arguments entered then...\n",
    "        print (\"I donot have any favorite fruit!\")\n",
    "        "
   ]
  },
  {
   "cell_type": "code",
   "execution_count": 9,
   "metadata": {},
   "outputs": [
    {
     "name": "stdout",
     "output_type": "stream",
     "text": [
      "My favorite fruit is Mango.\n"
     ]
    }
   ],
   "source": [
    "myfunc(fruit = 'Mango')"
   ]
  },
  {
   "cell_type": "code",
   "execution_count": 11,
   "metadata": {},
   "outputs": [
    {
     "name": "stdout",
     "output_type": "stream",
     "text": [
      "I donot have any favorite fruit!\n"
     ]
    }
   ],
   "source": [
    "myfunc(game = 'Football')"
   ]
  },
  {
   "cell_type": "markdown",
   "metadata": {},
   "source": [
    "**Note: Any name can be choosen instead of \"kwargs\" as long as it is preceded by a ****"
   ]
  },
  {
   "cell_type": "markdown",
   "metadata": {},
   "source": [
    "**Example of using both *args and **kwargs simultaneously.**"
   ]
  },
  {
   "cell_type": "code",
   "execution_count": 15,
   "metadata": {},
   "outputs": [],
   "source": [
    "def my_func(*args,**kwargs):\n",
    "    print (\"I would like to have {} {}\".format(args[0],kwargs['beverage']))\n",
    "    print (\"and {} {}\".format(args[1],kwargs['fruit']))\n",
    "    "
   ]
  },
  {
   "cell_type": "code",
   "execution_count": 17,
   "metadata": {},
   "outputs": [
    {
     "name": "stdout",
     "output_type": "stream",
     "text": [
      "I would like to have 1 coffee\n",
      "and 2 bananas\n"
     ]
    }
   ],
   "source": [
    "my_func(1,2, beverage ='coffee',fruit ='bananas')\n",
    "#Since while defining the function  my_func(*args,**kwargs) we first mentioned *args,\n",
    "#therefore while calling the function later we must mention all the args (numbers) first and then kwargs (keywords)\n",
    "#inside the bracket."
   ]
  },
  {
   "cell_type": "markdown",
   "metadata": {},
   "source": [
    "# 23. USE OF MAP FUNCTION."
   ]
  },
  {
   "cell_type": "code",
   "execution_count": 30,
   "metadata": {},
   "outputs": [
    {
     "name": "stdout",
     "output_type": "stream",
     "text": [
      "1\n",
      "4\n",
      "9\n",
      "16\n",
      "25\n",
      "36\n",
      "49\n",
      "64\n",
      "81\n"
     ]
    }
   ],
   "source": [
    "#Suppose I made a number squaring function.\n",
    "\n",
    "def square(num):\n",
    "    return num**2\n",
    "\n",
    "#Now I made a list of some random numbers.\n",
    "\n",
    "my_list = [1,2,3,4,5,6,7,8,9]\n",
    "\n",
    "#Now I want to apply the squaring function to each and every number of the list.\n",
    "#This is where we can use 'map' function.\n",
    "\n",
    "for item in map(square,my_list):\n",
    "    # Notice one thing that - inside the map() function \n",
    "    # FIRST thing we write is the FUNCTION name\n",
    "    # and in the SECOND place we write the name of the LIST.\n",
    "    print (item)"
   ]
  },
  {
   "cell_type": "code",
   "execution_count": 31,
   "metadata": {},
   "outputs": [],
   "source": [
    "#So, now every number is squared!"
   ]
  },
  {
   "cell_type": "code",
   "execution_count": 32,
   "metadata": {},
   "outputs": [
    {
     "data": {
      "text/plain": [
       "[1, 4, 9, 16, 25, 36, 49, 64, 81]"
      ]
     },
     "execution_count": 32,
     "metadata": {},
     "output_type": "execute_result"
    }
   ],
   "source": [
    "#Now, If we want the results in form of list then...\n",
    "\n",
    "list(map(square,my_list))"
   ]
  },
  {
   "cell_type": "markdown",
   "metadata": {},
   "source": [
    "**Another Example**"
   ]
  },
  {
   "cell_type": "code",
   "execution_count": 35,
   "metadata": {},
   "outputs": [
    {
     "data": {
      "text/plain": [
       "['ODD', 'ODD', 'EVEN', 'EVEN', 'EVEN']"
      ]
     },
     "execution_count": 35,
     "metadata": {},
     "output_type": "execute_result"
    }
   ],
   "source": [
    "#Defining the function.\n",
    "#-----------------------------------------------------------------------------------------------------------------------\n",
    "\n",
    "def my_func(mystring): #The function my_func is going to take mystring as variable.\n",
    "    \n",
    "    if len(mystring) % 2 == 0: #If total length of mystring/number of characters in mystring is evenn then.. \n",
    "        return 'EVEN'\n",
    "    else:\n",
    "        return 'ODD'\n",
    "    \n",
    "#Defining the list.\n",
    "#------------------------------------------------------------------------------------------------------------------------ \n",
    "names = ['Preetam', 'Rohit', 'Pradhugyna', 'Bikash', 'Bikram']\n",
    "\n",
    "#Using Map function.\n",
    "#------------------------------------------------------------------------------------------------------------------------\n",
    "list(map(my_func,names))   "
   ]
  },
  {
   "cell_type": "markdown",
   "metadata": {},
   "source": [
    "# 24. USE OF FILTER FUNCTION."
   ]
  },
  {
   "cell_type": "code",
   "execution_count": 43,
   "metadata": {},
   "outputs": [
    {
     "data": {
      "text/plain": [
       "[24, 56, 30]"
      ]
     },
     "execution_count": 43,
     "metadata": {},
     "output_type": "execute_result"
    }
   ],
   "source": [
    "#First, I  shall make a function to check if a number given is even or not.\n",
    "\n",
    "def check_even(num):\n",
    "    return num % 2 == 0 #If the number is even, it returns 'True' otherwise retyurns 'False'.\n",
    "\n",
    "#Now, I am gona declare a list of diffrent numbers.\n",
    "\n",
    "my_list = [24,56,79,47,30,23,781]\n",
    "\n",
    "#Now I want to filter out all the even numbers from the list \n",
    "#and create a new list using the above defined function check_even.\n",
    "\n",
    "#The filter function applies the check_even function \n",
    "#and includes only those numbers in the new list which satisfy its even condition.\n",
    "#--------------------------------------------------------------------------------------------------------------\n",
    "\n",
    "list(filter(check_even,my_list))"
   ]
  },
  {
   "cell_type": "code",
   "execution_count": 45,
   "metadata": {},
   "outputs": [
    {
     "name": "stdout",
     "output_type": "stream",
     "text": [
      "24\n",
      "56\n",
      "30\n"
     ]
    }
   ],
   "source": [
    "#Another way to print the numbers is...\n",
    "\n",
    "for num in filter(check_even,my_list):\n",
    "    print (num)"
   ]
  },
  {
   "cell_type": "markdown",
   "metadata": {},
   "source": [
    "**PROGRAM TO TAKE ARBITRARY NUMBERS AND RETURN LIST OF EVEN NUMBERS ONLY ---- WITHOUT USING filter() FUNCTION.**"
   ]
  },
  {
   "cell_type": "code",
   "execution_count": 46,
   "metadata": {},
   "outputs": [],
   "source": [
    "my_list = []\n",
    "def myfunc(*args):\n",
    "    for num in (args):\n",
    "        if num % 2 == 0:\n",
    "            my_list.append(num)\n",
    "        else:\n",
    "            pass \n",
    "    return my_list"
   ]
  },
  {
   "cell_type": "code",
   "execution_count": 48,
   "metadata": {},
   "outputs": [
    {
     "data": {
      "text/plain": [
       "[20, 46, 30]"
      ]
     },
     "execution_count": 48,
     "metadata": {},
     "output_type": "execute_result"
    }
   ],
   "source": [
    "myfunc(20,46,79,37,69,81,30,43.999,75,23,67,83)"
   ]
  },
  {
   "cell_type": "markdown",
   "metadata": {},
   "source": [
    "# 25. USE OF LAMBDA EXPRESSIONS."
   ]
  },
  {
   "cell_type": "markdown",
   "metadata": {},
   "source": [
    "One of Pythons most useful (and confusing for beginners) tools is the lambda expression. lambda expressions allow us to create \"anonymous\" functions that are for one time use only without defining a proper function using 'def'."
   ]
  },
  {
   "cell_type": "markdown",
   "metadata": {},
   "source": [
    "**lambda's body is a single expression, not a block of statements**"
   ]
  },
  {
   "cell_type": "markdown",
   "metadata": {},
   "source": [
    " lambda is designed for coding simple functions, and def handles the larger tasks."
   ]
  },
  {
   "cell_type": "markdown",
   "metadata": {},
   "source": [
    "Lets slowly break down a lambda expression by deconstructing a function:"
   ]
  },
  {
   "cell_type": "code",
   "execution_count": 49,
   "metadata": {},
   "outputs": [],
   "source": [
    "def square(num):\n",
    "    result = num**2\n",
    "    return result"
   ]
  },
  {
   "cell_type": "code",
   "execution_count": 50,
   "metadata": {},
   "outputs": [
    {
     "data": {
      "text/plain": [
       "81"
      ]
     },
     "execution_count": 50,
     "metadata": {},
     "output_type": "execute_result"
    }
   ],
   "source": [
    "square(9)"
   ]
  },
  {
   "cell_type": "markdown",
   "metadata": {},
   "source": [
    "We could simplify it:"
   ]
  },
  {
   "cell_type": "code",
   "execution_count": 51,
   "metadata": {},
   "outputs": [],
   "source": [
    "def square(num):\n",
    "    return num**2"
   ]
  },
  {
   "cell_type": "code",
   "execution_count": 52,
   "metadata": {},
   "outputs": [
    {
     "data": {
      "text/plain": [
       "81"
      ]
     },
     "execution_count": 52,
     "metadata": {},
     "output_type": "execute_result"
    }
   ],
   "source": [
    "square(9)"
   ]
  },
  {
   "cell_type": "markdown",
   "metadata": {},
   "source": [
    "We could actually even write this all on one line. "
   ]
  },
  {
   "cell_type": "code",
   "execution_count": null,
   "metadata": {},
   "outputs": [],
   "source": [
    "def square(num): return num**2"
   ]
  },
  {
   "cell_type": "code",
   "execution_count": 53,
   "metadata": {},
   "outputs": [
    {
     "data": {
      "text/plain": [
       "81"
      ]
     },
     "execution_count": 53,
     "metadata": {},
     "output_type": "execute_result"
    }
   ],
   "source": [
    "square(9)"
   ]
  },
  {
   "cell_type": "markdown",
   "metadata": {},
   "source": [
    "**This is the form that a lambda expression intends to replicate. A lambda expression can then be written as:**"
   ]
  },
  {
   "cell_type": "code",
   "execution_count": 54,
   "metadata": {},
   "outputs": [
    {
     "data": {
      "text/plain": [
       "<function __main__.<lambda>(num)>"
      ]
     },
     "execution_count": 54,
     "metadata": {},
     "output_type": "execute_result"
    }
   ],
   "source": [
    "lambda num: num ** 2 \n",
    "\n",
    "# Remember this syntax."
   ]
  },
  {
   "cell_type": "code",
   "execution_count": 55,
   "metadata": {},
   "outputs": [],
   "source": [
    "# You wouldn't usually assign a name to a lambda expression, this is just for demonstration!\n",
    "square = lambda num: num **2"
   ]
  },
  {
   "cell_type": "code",
   "execution_count": 56,
   "metadata": {},
   "outputs": [
    {
     "data": {
      "text/plain": [
       "81"
      ]
     },
     "execution_count": 56,
     "metadata": {},
     "output_type": "execute_result"
    }
   ],
   "source": [
    "square (9)"
   ]
  },
  {
   "cell_type": "markdown",
   "metadata": {},
   "source": [
    "**So why use this? Many function calls need a function passed in, such as map and filter. Often you only need to use the function you are passing in once, so instead of formally defining it, you just use the lambda expression.**"
   ]
  },
  {
   "cell_type": "code",
   "execution_count": 57,
   "metadata": {},
   "outputs": [],
   "source": [
    "my_list = [1,2,3,4,5,6,7,8,9]"
   ]
  },
  {
   "cell_type": "code",
   "execution_count": 58,
   "metadata": {},
   "outputs": [
    {
     "data": {
      "text/plain": [
       "[1, 4, 9, 16, 25, 36, 49, 64, 81]"
      ]
     },
     "execution_count": 58,
     "metadata": {},
     "output_type": "execute_result"
    }
   ],
   "source": [
    "#Creating a list of all squared numbers from a given list. \n",
    "list(map(lambda num: num**2, my_list)) "
   ]
  },
  {
   "cell_type": "code",
   "execution_count": 59,
   "metadata": {},
   "outputs": [
    {
     "data": {
      "text/plain": [
       "[2, 4, 6, 8]"
      ]
     },
     "execution_count": 59,
     "metadata": {},
     "output_type": "execute_result"
    }
   ],
   "source": [
    "#Creating a list of all even numbers from a given list. \n",
    "list(filter(lambda num: num % 2 == 0, my_list))"
   ]
  },
  {
   "cell_type": "markdown",
   "metadata": {},
   "source": [
    "**You can even pass in multiple arguments into a lambda expression. Again, keep in mind that not every function can be translated into a lambda expression.**"
   ]
  },
  {
   "cell_type": "code",
   "execution_count": 60,
   "metadata": {},
   "outputs": [
    {
     "data": {
      "text/plain": [
       "<function __main__.<lambda>(x, y)>"
      ]
     },
     "execution_count": 60,
     "metadata": {},
     "output_type": "execute_result"
    }
   ],
   "source": [
    "lambda x,y : x + y"
   ]
  },
  {
   "cell_type": "markdown",
   "metadata": {},
   "source": [
    "**Lambda expression for grabbing the first character of a string.**"
   ]
  },
  {
   "cell_type": "code",
   "execution_count": 62,
   "metadata": {},
   "outputs": [],
   "source": [
    "names = ['Preetam', 'Rohit', 'Pradhugyna', 'Bikash', 'Bikram']"
   ]
  },
  {
   "cell_type": "code",
   "execution_count": 63,
   "metadata": {},
   "outputs": [
    {
     "data": {
      "text/plain": [
       "['P', 'R', 'P', 'B', 'B']"
      ]
     },
     "execution_count": 63,
     "metadata": {},
     "output_type": "execute_result"
    }
   ],
   "source": [
    "list ( map (lambda name: name[0], names))"
   ]
  },
  {
   "cell_type": "markdown",
   "metadata": {},
   "source": [
    "# 26. LOCAL VARIABLES AND GLOBAL VARIABLES."
   ]
  },
  {
   "cell_type": "markdown",
   "metadata": {},
   "source": [
    "Now that we have gone over writing our own functions, it's important to understand how Python deals with the variable names you assign. When you create a variable name in Python the name is stored in a name-space."
   ]
  },
  {
   "cell_type": "markdown",
   "metadata": {},
   "source": [
    "Take a look at the following code:"
   ]
  },
  {
   "cell_type": "code",
   "execution_count": 1,
   "metadata": {},
   "outputs": [],
   "source": [
    "x = 25\n",
    "\n",
    "def printer():\n",
    "    x = 50\n",
    "    return x"
   ]
  },
  {
   "cell_type": "markdown",
   "metadata": {},
   "source": [
    "After, executing this whole code once > Now, when we simply call the value of variable x, we get 25: "
   ]
  },
  {
   "cell_type": "code",
   "execution_count": 3,
   "metadata": {},
   "outputs": [
    {
     "name": "stdout",
     "output_type": "stream",
     "text": [
      "25\n"
     ]
    }
   ],
   "source": [
    "print(x)"
   ]
  },
  {
   "cell_type": "markdown",
   "metadata": {},
   "source": [
    "But when we call for the function printer(), see what happens:"
   ]
  },
  {
   "cell_type": "code",
   "execution_count": 4,
   "metadata": {},
   "outputs": [
    {
     "name": "stdout",
     "output_type": "stream",
     "text": [
      "50\n"
     ]
    }
   ],
   "source": [
    "print(printer())"
   ]
  },
  {
   "cell_type": "markdown",
   "metadata": {},
   "source": [
    "Again, If we simply call variable x:"
   ]
  },
  {
   "cell_type": "code",
   "execution_count": 5,
   "metadata": {},
   "outputs": [
    {
     "name": "stdout",
     "output_type": "stream",
     "text": [
      "25\n"
     ]
    }
   ],
   "source": [
    "print (x)"
   ]
  },
  {
   "cell_type": "markdown",
   "metadata": {},
   "source": [
    "So, we observe that Python treats the values of **x = 25** (*Mentioned outside of the function*) and **x = 50** (*Mentioned inside the function*) as **TWO DIFFERENT VARIABLES**."
   ]
  },
  {
   "cell_type": "markdown",
   "metadata": {},
   "source": [
    "Here, the variable **'x = 25'** is a **GLOBAL VARIABLE** and the variable **'x = 50'** is a **LOCAL VARIABLE**."
   ]
  },
  {
   "cell_type": "markdown",
   "metadata": {},
   "source": [
    "Another Example:"
   ]
  },
  {
   "cell_type": "code",
   "execution_count": 7,
   "metadata": {},
   "outputs": [
    {
     "name": "stdout",
     "output_type": "stream",
     "text": [
      "x is 50\n",
      "Changed local x to 2\n",
      "50\n"
     ]
    }
   ],
   "source": [
    "x = 50\n",
    "\n",
    "def func(x):\n",
    "    print('x is', x)\n",
    "    x = 2\n",
    "    print('Changed local x to', x)\n",
    "\n",
    "func(x)\n",
    "\n",
    "print(x)"
   ]
  },
  {
   "cell_type": "markdown",
   "metadata": {},
   "source": [
    "As you can see the main value of variable x remains unchanged i.e x = 50."
   ]
  },
  {
   "cell_type": "markdown",
   "metadata": {},
   "source": [
    "Here, the variable **'x = 50'** is a **GLOBAL VARIABLE** and the variable **'x = 2'** is a **LOCAL VARIABLE**."
   ]
  },
  {
   "cell_type": "markdown",
   "metadata": {},
   "source": [
    "## Local Variables:\n",
    "    \n",
    "   Variables declared inside a function definition. They are not related in any way to other variables with the same names        used outside the function. This is called the scope of the variable. The scope determines the visibility of that variable      name to other parts of your code. All variables have the scope of the block they are declared in."
   ]
  },
  {
   "cell_type": "markdown",
   "metadata": {},
   "source": [
    "## The global Statement:"
   ]
  },
  {
   "cell_type": "markdown",
   "metadata": {},
   "source": [
    "Take a look at the following code again:"
   ]
  },
  {
   "cell_type": "code",
   "execution_count": 15,
   "metadata": {},
   "outputs": [
    {
     "name": "stdout",
     "output_type": "stream",
     "text": [
      "25\n",
      "50\n"
     ]
    }
   ],
   "source": [
    "x = 25\n",
    "\n",
    "def printer():\n",
    "    x = 50\n",
    "    return x\n",
    "\n",
    "print (x)\n",
    "print(printer())"
   ]
  },
  {
   "cell_type": "markdown",
   "metadata": {},
   "source": [
    "Now, suppose I want to change the value **x = 25 to x = 50** inside the function **printer()** AND **I WANT TO KEEP THAT CHANGE (x = 50)  PERMANENT AFTER CALLING MY FUNCTION ONCE.**\n",
    "\n",
    "   This is where we use the global statement. Look at the code below and analyse the results:"
   ]
  },
  {
   "cell_type": "code",
   "execution_count": 24,
   "metadata": {},
   "outputs": [],
   "source": [
    "x = 25\n",
    "\n",
    "def printer():\n",
    "    global x\n",
    "    x = 50\n",
    "    return x"
   ]
  },
  {
   "cell_type": "code",
   "execution_count": 25,
   "metadata": {},
   "outputs": [
    {
     "name": "stdout",
     "output_type": "stream",
     "text": [
      "25\n"
     ]
    }
   ],
   "source": [
    "print (x)"
   ]
  },
  {
   "cell_type": "code",
   "execution_count": 26,
   "metadata": {},
   "outputs": [
    {
     "data": {
      "text/plain": [
       "50"
      ]
     },
     "execution_count": 26,
     "metadata": {},
     "output_type": "execute_result"
    }
   ],
   "source": [
    "printer()"
   ]
  },
  {
   "cell_type": "code",
   "execution_count": 27,
   "metadata": {},
   "outputs": [
    {
     "name": "stdout",
     "output_type": "stream",
     "text": [
      "50\n"
     ]
    }
   ],
   "source": [
    "print (x)"
   ]
  },
  {
   "cell_type": "markdown",
   "metadata": {},
   "source": [
    "**Another Example**"
   ]
  },
  {
   "cell_type": "code",
   "execution_count": 28,
   "metadata": {},
   "outputs": [
    {
     "name": "stdout",
     "output_type": "stream",
     "text": [
      "Before calling func(), x is:  50\n",
      "This function is now using the global x!\n",
      "Because global x is:  50\n",
      "func(), changed global x to 2\n",
      "Value of x (outside of func()) is:  2\n"
     ]
    }
   ],
   "source": [
    "x = 50\n",
    "\n",
    "def func():\n",
    "    global x\n",
    "    print('This function is now using the global x!')\n",
    "    print('Because global x is: ', x)\n",
    "    x = 2\n",
    "    print('func(), changed global x to', x)\n",
    "\n",
    "print('Before calling func(), x is: ', x)\n",
    "func()\n",
    "print('Value of x (outside of func()) is: ', x)"
   ]
  },
  {
   "cell_type": "code",
   "execution_count": 29,
   "metadata": {},
   "outputs": [
    {
     "name": "stdout",
     "output_type": "stream",
     "text": [
      "2\n"
     ]
    }
   ],
   "source": [
    "print(x)"
   ]
  },
  {
   "cell_type": "markdown",
   "metadata": {},
   "source": [
    "The **global statement** is used to declare that **x** is a **global variable** - hence, when we assign a value to x inside the function, that change is reflected when we use the value of x in the main block.\n",
    "\n",
    "You can specify more than one global variable using the same global statement e.g. **global x, y, z**."
   ]
  },
  {
   "cell_type": "markdown",
   "metadata": {},
   "source": [
    "# 27. VALIDATING USER INPUT"
   ]
  },
  {
   "cell_type": "markdown",
   "metadata": {},
   "source": [
    "## A function to check whether the string entered is an integer or not - \"$.isdigit()$\""
   ]
  },
  {
   "cell_type": "code",
   "execution_count": 1,
   "metadata": {},
   "outputs": [
    {
     "data": {
      "text/plain": [
       "True"
      ]
     },
     "execution_count": 1,
     "metadata": {},
     "output_type": "execute_result"
    }
   ],
   "source": [
    "some_input = '10'\n",
    "some_input.isdigit()"
   ]
  },
  {
   "cell_type": "markdown",
   "metadata": {},
   "source": [
    "## A program to check if the input provided by the user is an integer or not."
   ]
  },
  {
   "cell_type": "code",
   "execution_count": 13,
   "metadata": {},
   "outputs": [],
   "source": [
    "def user_choice():\n",
    "    \n",
    "    choice = \"wrong\"\n",
    "    # This original choice value can be anything that isn't an integer\n",
    "    \n",
    "    while choice.isdigit() == False:\n",
    "    # While the choice is not a digit, keep asking for input.\n",
    "        \n",
    "        choice = input(\"Please a digit: \")\n",
    "        # we shouldn't convert here, otherwise we get an error on a wrong input\n",
    "        \n",
    "    return int(choice)\n",
    "    # We can convert once the while loop above has confirmed we have a digit."
   ]
  },
  {
   "cell_type": "code",
   "execution_count": 14,
   "metadata": {},
   "outputs": [
    {
     "name": "stdout",
     "output_type": "stream",
     "text": [
      "Please a digit: hello\n",
      "Please a digit: two\n",
      "Please a digit: 2\n"
     ]
    },
    {
     "data": {
      "text/plain": [
       "2"
      ]
     },
     "execution_count": 14,
     "metadata": {},
     "output_type": "execute_result"
    }
   ],
   "source": [
    "user_choice()"
   ]
  },
  {
   "cell_type": "markdown",
   "metadata": {},
   "source": [
    "## Let's try adding an error message within the while loop!"
   ]
  },
  {
   "cell_type": "code",
   "execution_count": 11,
   "metadata": {},
   "outputs": [],
   "source": [
    "def user_choice():\n",
    "    \n",
    "    # This original choice value can be anything that isn't an integer\n",
    "    choice = 'wrong'\n",
    "    \n",
    "    # While the choice is not a digit, keep asking for input.\n",
    "    while choice.isdigit() == False:\n",
    "        \n",
    "        # we shouldn't convert here, otherwise we get an error on a wrong input\n",
    "        choice = input(\"Choose a number: \")\n",
    "        \n",
    "        # Error Message Check\n",
    "        if choice.isdigit() == False:\n",
    "            print(\"Sorry, but you did not enter an integer. Please try again.\")\n",
    "    \n",
    "    # We can convert once the while loop above has confirmed we have a digit.\n",
    "    return int(choice)"
   ]
  },
  {
   "cell_type": "code",
   "execution_count": 12,
   "metadata": {},
   "outputs": [
    {
     "name": "stdout",
     "output_type": "stream",
     "text": [
      "Choose a number: two\n",
      "Sorry, but you did not enter an integer. Please try again.\n",
      "Choose a number: 2\n"
     ]
    },
    {
     "data": {
      "text/plain": [
       "2"
      ]
     },
     "execution_count": 12,
     "metadata": {},
     "output_type": "execute_result"
    }
   ],
   "source": [
    "user_choice()"
   ]
  },
  {
   "cell_type": "markdown",
   "metadata": {},
   "source": [
    "## Now let's explore how to \"clear\" the output, that way we don't see the history of the \"Choose a number\" statements."
   ]
  },
  {
   "cell_type": "code",
   "execution_count": 15,
   "metadata": {},
   "outputs": [],
   "source": [
    "from IPython.display import clear_output\n",
    "clear_output()"
   ]
  },
  {
   "cell_type": "code",
   "execution_count": 17,
   "metadata": {},
   "outputs": [
    {
     "name": "stdout",
     "output_type": "stream",
     "text": [
      "Sorry, but you did not enter an integer. Please try again.\n",
      "Choose a number: 56\n"
     ]
    },
    {
     "data": {
      "text/plain": [
       "56"
      ]
     },
     "execution_count": 17,
     "metadata": {},
     "output_type": "execute_result"
    }
   ],
   "source": [
    "def user_choice():\n",
    "    \n",
    "    # This original choice value can be anything that isn't an integer\n",
    "    choice = 'wrong'\n",
    "    \n",
    "    # While the choice is not a digit, keep asking for input.\n",
    "    while choice.isdigit() == False:\n",
    "        \n",
    "        # we shouldn't convert here, otherwise we get an error on a wrong input\n",
    "        choice = input(\"Choose a number: \")\n",
    "        \n",
    "        if choice.isdigit() == False:\n",
    "            # THIS CLEARS THE CURRENT OUTPUT BELOW THE CELL\n",
    "            clear_output()\n",
    "            \n",
    "            print(\"Sorry, but you did not enter an integer. Please try again.\")\n",
    "            \n",
    "    \n",
    "    # Optionally you can clear everything after running the function\n",
    "    # clear_output()\n",
    "    \n",
    "    # We can convert once the while loop above has confirmed we have a digit.\n",
    "    return int(choice)\n",
    "\n",
    "user_choice()"
   ]
  },
  {
   "cell_type": "markdown",
   "metadata": {},
   "source": [
    "<div class=\"alert alert-block alert-info\">\n",
    "<b>Note:</b> clear_output() will only work in jupyter. To clear the screen in other IDEs, consider:<br><br>\n",
    "    print('\\n'*100)<br><br>\n",
    "    This scrolls the previous board up out of view.\n",
    "</div>\n",
    "\n",
    "Now on to the program!"
   ]
  },
  {
   "cell_type": "markdown",
   "metadata": {},
   "source": [
    "## A Program To Check The User Input Against Multiple Possible Values"
   ]
  },
  {
   "cell_type": "code",
   "execution_count": 18,
   "metadata": {},
   "outputs": [],
   "source": [
    "result = 'wrong value'\n",
    "acceptable_values = ['0','1','2']"
   ]
  },
  {
   "cell_type": "code",
   "execution_count": 19,
   "metadata": {},
   "outputs": [
    {
     "data": {
      "text/plain": [
       "False"
      ]
     },
     "execution_count": 19,
     "metadata": {},
     "output_type": "execute_result"
    }
   ],
   "source": [
    "result in acceptable_values"
   ]
  },
  {
   "cell_type": "code",
   "execution_count": 20,
   "metadata": {},
   "outputs": [
    {
     "data": {
      "text/plain": [
       "True"
      ]
     },
     "execution_count": 20,
     "metadata": {},
     "output_type": "execute_result"
    }
   ],
   "source": [
    "result not in acceptable_values"
   ]
  },
  {
   "cell_type": "code",
   "execution_count": 21,
   "metadata": {},
   "outputs": [],
   "source": [
    "from IPython.display import clear_output\n",
    "clear_output()"
   ]
  },
  {
   "cell_type": "code",
   "execution_count": 22,
   "metadata": {},
   "outputs": [
    {
     "name": "stdout",
     "output_type": "stream",
     "text": [
      "Sorry, but you did not choose a value in the correct range (0,1,2)\n",
      "Choose one of these numbers (0,1,2): 2\n"
     ]
    },
    {
     "data": {
      "text/plain": [
       "2"
      ]
     },
     "execution_count": 22,
     "metadata": {},
     "output_type": "execute_result"
    }
   ],
   "source": [
    "def user_choice():\n",
    "    \n",
    "    # This original choice value can be anything that isn't an integer\n",
    "    choice = 'wrong'\n",
    "    \n",
    "    # While the choice is not in the list, keep asking for input.\n",
    "    while choice not in ['0','1','2']:\n",
    "        \n",
    "        # we shouldn't convert here, otherwise we get an error on a wrong input\n",
    "        choice = input(\"Choose one of these numbers (0,1,2): \")\n",
    "        \n",
    "        if choice not in ['0','1','2']:\n",
    "            # THIS CLEARS THE CURRENT OUTPUT BELOW THE CELL\n",
    "            clear_output()\n",
    "            \n",
    "            print(\"Sorry, but you did not choose a value in the correct range (0,1,2)\")\n",
    "            \n",
    "    \n",
    "    # Optionally you can clear everything after running the function\n",
    "    # clear_output()\n",
    "    \n",
    "    # We can convert once the while loop above has confirmed we have a digit.\n",
    "    return int(choice)\n",
    "\n",
    "user_choice()\n",
    "# Calling the function."
   ]
  },
  {
   "cell_type": "markdown",
   "metadata": {},
   "source": [
    "### One More Example"
   ]
  },
  {
   "cell_type": "code",
   "execution_count": 23,
   "metadata": {},
   "outputs": [
    {
     "name": "stdout",
     "output_type": "stream",
     "text": [
      "Please enter a number (0-10): 67\n",
      "Please enter a number (0-10): 78\n",
      "Please enter a number (0-10): 5\n"
     ]
    },
    {
     "data": {
      "text/plain": [
       "5"
      ]
     },
     "execution_count": 23,
     "metadata": {},
     "output_type": "execute_result"
    }
   ],
   "source": [
    "def user_choice():\n",
    "    \n",
    "    choice ='WRONG'\n",
    "    within_range = False\n",
    "    \n",
    "    while choice.isdigit() == False or within_range == False:\n",
    "        \n",
    "    \n",
    "    \n",
    "        choice = input(\"Please enter a number (0-10): \")\n",
    "        \n",
    "        if choice.isdigit() == False:\n",
    "            print(\"Sorry that is not a digit!\")\n",
    "            \n",
    "        if choice.isdigit() == True:\n",
    "            if int(choice) in range(0,10):\n",
    "                within_range = True\n",
    "            else:\n",
    "                within_range = False\n",
    "        \n",
    "    \n",
    "    return int(choice)\n",
    "\n",
    "user_choice()"
   ]
  },
  {
   "cell_type": "markdown",
   "metadata": {},
   "source": [
    "# 28. OBJECT - ORIENTED PROGRAMMING\n",
    "---"
   ]
  },
  {
   "cell_type": "markdown",
   "metadata": {},
   "source": [
    "## Object and Class:\n",
    "---\n",
    "- In OOP, ***every non-empty variable or a piece of data*** is called an **Object.**.\n",
    "- Every object falls under a particular ***Type or Class of Objects*** which can be determined using `type()` function.\n",
    "- Integer, Boolean, String, Float, List, Tuple, Set etc. are some examples of ***Type or Class of Objects*** in Python."
   ]
  },
  {
   "cell_type": "code",
   "execution_count": 10,
   "metadata": {},
   "outputs": [
    {
     "data": {
      "text/plain": [
       "int"
      ]
     },
     "execution_count": 10,
     "metadata": {},
     "output_type": "execute_result"
    }
   ],
   "source": [
    "type(1)\n",
    "# Here, 1 is an Object \n",
    "# And it belongs to the Class of Integer."
   ]
  },
  {
   "cell_type": "code",
   "execution_count": 11,
   "metadata": {},
   "outputs": [
    {
     "data": {
      "text/plain": [
       "list"
      ]
     },
     "execution_count": 11,
     "metadata": {},
     "output_type": "execute_result"
    }
   ],
   "source": [
    "type([])\n",
    "# Here empty list ([]) is an Object \n",
    "# And it belongs to the Class of List."
   ]
  },
  {
   "cell_type": "code",
   "execution_count": 1,
   "metadata": {},
   "outputs": [
    {
     "data": {
      "text/plain": [
       "str"
      ]
     },
     "execution_count": 1,
     "metadata": {},
     "output_type": "execute_result"
    }
   ],
   "source": [
    "my_string = \"preetam\"\n",
    "type(my_string)\n",
    "# Here variable my_string is an Object \n",
    "# And it belongs to the Class of string."
   ]
  },
  {
   "cell_type": "markdown",
   "metadata": {},
   "source": [
    "## The `class` Keyword:\n",
    "---\n",
    "- How can we create our own ***TYPES OR CLASSES of Objects***? That is where the `class` keyword comes in.<br><br>\n",
    "- User defined **Class** of objects are created using the `class` keyword.<br><br>\n",
    "- From classes we can construct *instances*. An **instance** is a specific **object** which is created from a particular ***class***. "
   ]
  },
  {
   "cell_type": "code",
   "execution_count": 2,
   "metadata": {},
   "outputs": [
    {
     "data": {
      "text/plain": [
       "__main__.Sample"
      ]
     },
     "execution_count": 2,
     "metadata": {},
     "output_type": "execute_result"
    }
   ],
   "source": [
    "# Create a new object type/class called Sample\n",
    "class Sample:\n",
    "    pass\n",
    "\n",
    "# Creating an Instance/Object from Sample class.\n",
    "x = Sample()\n",
    "\n",
    "type(x)"
   ]
  },
  {
   "cell_type": "markdown",
   "metadata": {},
   "source": [
    "- **By convention we give classes a name that starts with a capital letter.**<br><br>\n",
    "- Inside of the class we currently just have pass. But we can define class attributes and methods.<br><br>\n",
    "- An **attribute** is a characteristic of every ***object/instance*** within a ***class***.<br><br>\n",
    "- A **method** is an operation we can perform with the every ***object/instance*** within a ***class***.<br><br>\n",
    "- For example, we can create a class called Dog. An attribute of a dog may be its breed or its name, while a method of a dog may be defined by a .bark() method which returns a sound."
   ]
  },
  {
   "cell_type": "markdown",
   "metadata": {},
   "source": [
    "## Attributes\n",
    "---"
   ]
  },
  {
   "cell_type": "markdown",
   "metadata": {},
   "source": [
    "**Syntax for creating attributes:**"
   ]
  },
  {
   "cell_type": "code",
   "execution_count": 3,
   "metadata": {},
   "outputs": [],
   "source": [
    "class Dog:\n",
    "# Creating a class of objects called Dog.\n",
    "\n",
    "    def __init__(self,breed):\n",
    "    # The __init__() is a special method which is used to define the attributes of any object created within the class.\n",
    "    # The word 'self' signifies an object/instance created within the class. \n",
    "    # Any instance/object created within the Dog class will have an attribute/characteristic of its own called 'breed'.\n",
    "    # This attribute/characteristic 'breed' will be defined for every object/instance of the class 'Dog' \n",
    "    # at time of its creation.\n",
    "    \n",
    "        self.breed = breed\n",
    "        # This means when we code \"instance.breed\" into the console\n",
    "        # it will return us the value of 'breed' that we have assigned to -- that instance -- with the class of Dog."
   ]
  },
  {
   "cell_type": "markdown",
   "metadata": {},
   "source": [
    "**Creating Instances from a Class:**"
   ]
  },
  {
   "cell_type": "code",
   "execution_count": 4,
   "metadata": {},
   "outputs": [],
   "source": [
    "# Creating an instance of the class Dog and assigning its attribute values:\n",
    "\n",
    "frankie = Dog(breed = 'Labrador')\n",
    "\n",
    "# frankie is an object of class Dog.\n",
    "# The value of the attribute breed for frankie is string 'Labrador'"
   ]
  },
  {
   "cell_type": "code",
   "execution_count": 5,
   "metadata": {},
   "outputs": [],
   "source": [
    "# Creating another instance of class Dog and assigning its attribute values:\n",
    "\n",
    "jerry = Dog(breed = 'Huskie')\n",
    "\n",
    "# jerry is an object of class Dog.\n",
    "# The value of the attribute breed for jerry is string 'Huskie'"
   ]
  },
  {
   "cell_type": "markdown",
   "metadata": {},
   "source": [
    "Now we have created two instances of the Dog class. With two breed types, we can then access these attributes like this:"
   ]
  },
  {
   "cell_type": "code",
   "execution_count": 6,
   "metadata": {},
   "outputs": [
    {
     "data": {
      "text/plain": [
       "'Labrador'"
      ]
     },
     "execution_count": 6,
     "metadata": {},
     "output_type": "execute_result"
    }
   ],
   "source": [
    "frankie.breed"
   ]
  },
  {
   "cell_type": "code",
   "execution_count": 7,
   "metadata": {},
   "outputs": [
    {
     "data": {
      "text/plain": [
       "'Huskie'"
      ]
     },
     "execution_count": 7,
     "metadata": {},
     "output_type": "execute_result"
    }
   ],
   "source": [
    "jerry.breed"
   ]
  },
  {
   "cell_type": "markdown",
   "metadata": {},
   "source": [
    "Note how we don't have any parentheses after breed; this is because **it is an attribute and doesn't take any arguments**.\n",
    "\n",
    "In Python there are also ***class object attributes***. These Class Object Attributes are the same for any instance of the class.\n",
    "\n",
    "For example, we could create the attribute species for the Dog class. Dogs, regardless of their breed, name, or other attributes, will always be mammals.\n",
    "\n",
    "We apply this logic in the following manner:"
   ]
  },
  {
   "cell_type": "code",
   "execution_count": 2,
   "metadata": {},
   "outputs": [],
   "source": [
    "class Dog:\n",
    "    \n",
    "    # Class Object Attribute\n",
    "    species = 'mammal'\n",
    "    \n",
    "    def __init__(self,breed,name):\n",
    "        self.breed = breed\n",
    "        self.name = name"
   ]
  },
  {
   "cell_type": "code",
   "execution_count": 3,
   "metadata": {},
   "outputs": [],
   "source": [
    "sam = Dog('Lab','Sam')\n",
    "# Creating an object sam -- of class Dog.\n",
    "# The value of its attribute breed is string 'Lab'\n",
    "# and the value of its attribute name is string 'Sam' "
   ]
  },
  {
   "cell_type": "code",
   "execution_count": 4,
   "metadata": {},
   "outputs": [
    {
     "data": {
      "text/plain": [
       "'Sam'"
      ]
     },
     "execution_count": 4,
     "metadata": {},
     "output_type": "execute_result"
    }
   ],
   "source": [
    "sam.name"
   ]
  },
  {
   "cell_type": "code",
   "execution_count": 5,
   "metadata": {},
   "outputs": [
    {
     "data": {
      "text/plain": [
       "'Lab'"
      ]
     },
     "execution_count": 5,
     "metadata": {},
     "output_type": "execute_result"
    }
   ],
   "source": [
    "sam.breed"
   ]
  },
  {
   "cell_type": "code",
   "execution_count": 7,
   "metadata": {},
   "outputs": [
    {
     "data": {
      "text/plain": [
       "'mammal'"
      ]
     },
     "execution_count": 7,
     "metadata": {},
     "output_type": "execute_result"
    }
   ],
   "source": [
    "sam.species\n",
    "# The value of this Class Object Attribute - species - is going to be same for every object/instance we create\n",
    "# within this class of Dog."
   ]
  },
  {
   "cell_type": "code",
   "execution_count": 8,
   "metadata": {},
   "outputs": [],
   "source": [
    "# Lets create another object within the class Dog.\n",
    "\n",
    "jerry = Dog(breed = 'Huskie', name = 'Jerry')"
   ]
  },
  {
   "cell_type": "code",
   "execution_count": 9,
   "metadata": {},
   "outputs": [
    {
     "data": {
      "text/plain": [
       "'mammal'"
      ]
     },
     "execution_count": 9,
     "metadata": {},
     "output_type": "execute_result"
    }
   ],
   "source": [
    "# Now, if we check the value of Class Object Attribute - species - for the Object - jerry\n",
    "\n",
    "jerry.species\n",
    "\n",
    "# we see that the - species - of jerry is also 'mammal' just like the previous object sam."
   ]
  },
  {
   "cell_type": "code",
   "execution_count": 11,
   "metadata": {},
   "outputs": [
    {
     "data": {
      "text/plain": [
       "'Huskie'"
      ]
     },
     "execution_count": 11,
     "metadata": {},
     "output_type": "execute_result"
    }
   ],
   "source": [
    "jerry.breed"
   ]
  },
  {
   "cell_type": "code",
   "execution_count": 12,
   "metadata": {},
   "outputs": [
    {
     "data": {
      "text/plain": [
       "'Jerry'"
      ]
     },
     "execution_count": 12,
     "metadata": {},
     "output_type": "execute_result"
    }
   ],
   "source": [
    "jerry.name"
   ]
  },
  {
   "cell_type": "markdown",
   "metadata": {},
   "source": [
    "Note that the Class Object Attribute is defined outside of any methods in the class. Also by convention, we place them first before the init."
   ]
  },
  {
   "cell_type": "markdown",
   "metadata": {},
   "source": [
    "## Methods\n",
    "---"
   ]
  },
  {
   "cell_type": "markdown",
   "metadata": {},
   "source": [
    "Methods are functions defined inside the body of a class.\n",
    "\n",
    "You can basically think of methods as functions acting on an Object &nbsp;&nbsp;[<span style=\"color:blue\">object.function()</span>]&nbsp;&nbsp; that takes the Object itself into consideration alongwith all of its attributes under the 'self' argument and may take any additional argument &nbsp;&nbsp;[<span style=\"color:blue\">function(self, any_add_arg)</span>] ----- and gives a desired output.\n",
    "\n",
    "\n",
    "> **Example**: See the ***setRadius(self, new_radius)*** and ***getCircumference(self)*** methods in the code shown below.\n",
    ">> - **setRadius(self, new_radius):** Takes the Object itself into consideration alongwith all of its attributes under the 'self' argument and takes an additional argument 'new_radius'.<br><br>\n",
    ">> - **getCircumference(self):** Takes the Object itself into consideration alongwith all of its attributes under the 'self' argument and does not take any other argument.\n",
    "\n",
    "\n",
    "Let's go through an example of creating a Circle class:"
   ]
  },
  {
   "cell_type": "code",
   "execution_count": 54,
   "metadata": {},
   "outputs": [
    {
     "name": "stdout",
     "output_type": "stream",
     "text": [
      "Radius is:  1\n",
      "Area is:  3.14\n",
      "Circumference is:  6.28\n"
     ]
    }
   ],
   "source": [
    "class Circle:\n",
    "# Creating a class of Circle.\n",
    "\n",
    "    pi = 3.14\n",
    "    # Class Object Attribute (Same for every instance.)\n",
    "\n",
    "    def __init__(self, radius=1):\n",
    "    # Defining attribute - radius - for any instance created within class Circle.\n",
    "    # For now, we can give a default value to the radius = 1.\n",
    "    # Note, that we are free to change the default value of radius = 1, everytime we create a new instance within the class.\n",
    "    # However, if we do not pass any new value of radius, the program will automatically take radius = 1 as default value.\n",
    "    \n",
    "        self.radius = radius \n",
    "        self.area = radius * radius * Circle.pi\n",
    "        # Notice that we are introducing a new attribute self.area without mentioning it inside the __init()__ brackets.\n",
    "        # Notice, how we describe the Class Object Attribute - pi - inside the __init__() function as :: Circle.pi\n",
    "        # We can also refer to the Class Object Attribute - pi - as self.pi and the result will be same.\n",
    "\n",
    "    # Method for resetting Radius\n",
    "    def setRadius(self, new_radius):\n",
    "    # Within this method, we are introducing a new attribute (argument) -- new_radius.\n",
    "    # along with all the previously defined object attributes (self.radius,self.area) referenced under the word 'self'.\n",
    "    \n",
    "        self.radius = new_radius\n",
    "        self.area = new_radius * new_radius * self.pi\n",
    "    \n",
    "    # Method for getting Circumference\n",
    "    def getCircumference(self):\n",
    "    # Here, we are taking only the previously defined arguments of the Object under 'self' (self.radius,self.area) \n",
    "    # and not taking any new arguments \n",
    "        \n",
    "        return self.radius * self.pi * 2\n",
    "        # It means \"return\"-- [whatever is the value of self.radius] x [self.pi] x 2 \n",
    "        # Note: We can assign an attribute name self.circumference to the expression [self.radius * self.pi * 2]\n",
    "        #       using the syntax (just like we did in the __init()__ method):\n",
    "        \n",
    "        #                  def getCircumference(self):\n",
    "        \n",
    "        #                     self.circumference = self.radius * self.pi * 2\n",
    "        \n",
    "        #                     return self.circumference\n",
    "        \n",
    "        #       But, if we write:\n",
    "        #                  def getCircumference(self):\n",
    "        \n",
    "        #                     return self.circumference = self.radius * self.pi * 2\n",
    "        \n",
    "        #       Then, Python will show an error.\n",
    "        \n",
    "        # OR we can as shown in the main code above. That too is error free.\n",
    " \n",
    "c = Circle()\n",
    "# Creating an instance of Class Circle.\n",
    "# We have already given a default value of radius = 1 in __init__ method in the beginning. \n",
    "# so, for now, we are not passing any new value to the attribute - radius.\n",
    "\n",
    "print('Radius is: ',c.radius)\n",
    "# If we do not pass any new value of radius, the program will automatically take radius = 1 as default value.\n",
    "\n",
    "print('Area is: ',c.area)\n",
    "# Area will be calculated taking the default value of radius=1.\n",
    "\n",
    "print('Circumference is: ',c.getCircumference())\n",
    "# Circumference will be calculated taking the default value of radius=1.\n",
    "# Notice the syntax for calling a method (defined within the Class) for an instance of the Class -- c.getCircumference() "
   ]
  },
  {
   "cell_type": "code",
   "execution_count": 55,
   "metadata": {},
   "outputs": [],
   "source": [
    "# Creating a new instance within the class Circle.\n",
    "\n",
    "n = Circle(radius = 50)\n",
    "# Note, that we are free to change the default value of radius = 1, everytime we create a new instance within the class."
   ]
  },
  {
   "cell_type": "code",
   "execution_count": 56,
   "metadata": {},
   "outputs": [
    {
     "name": "stdout",
     "output_type": "stream",
     "text": [
      "Radius is:  50\n",
      "Area is:  7850.0\n",
      "Circumference is:  314.0\n"
     ]
    }
   ],
   "source": [
    "print('Radius is: ',n.radius)\n",
    "# The value of n.radius will be equal to the newly assigned value of radius = 50\n",
    "\n",
    "print('Area is: ',n.area)\n",
    "# The value of n.area will be updated as per the new value of n.radius.\n",
    "\n",
    "print('Circumference is: ',n.getCircumference())\n",
    "# Notice the syntax for calling a method (defined within the Class) for an instance of the Class -- c.getCircumference()\n",
    "# The value of n.getCircumference() will be updated as per the new value of n.radius."
   ]
  },
  {
   "cell_type": "markdown",
   "metadata": {},
   "source": [
    "Notice how every other result gets updated as per the new radius value that we gave."
   ]
  },
  {
   "cell_type": "markdown",
   "metadata": {},
   "source": [
    "Now let's use method **setRadius()** and see how that affects our Circle object:"
   ]
  },
  {
   "cell_type": "code",
   "execution_count": 68,
   "metadata": {},
   "outputs": [],
   "source": [
    "n.setRadius(new_radius = 60)"
   ]
  },
  {
   "cell_type": "code",
   "execution_count": 70,
   "metadata": {},
   "outputs": [
    {
     "name": "stdout",
     "output_type": "stream",
     "text": [
      "Radius is:  60\n",
      "Area is:  11304.0\n",
      "Circumference is:  376.8\n"
     ]
    }
   ],
   "source": [
    "print('Radius is: ',n.radius)\n",
    "print('Area is: ',n.area)\n",
    "print('Circumference is: ',n.getCircumference())"
   ]
  },
  {
   "cell_type": "markdown",
   "metadata": {},
   "source": [
    "## Inheritance:\n",
    "---"
   ]
  },
  {
   "cell_type": "markdown",
   "metadata": {},
   "source": [
    "Inheritance is a way to form new classes using classes that have already been defined. The newly formed classes are called derived classes. And, the classes that we derive from are called base classes. Important benefits of inheritance are code reuse and reduction of complexity of a program. The derived classes (descendants) override or extend the functionality of base classes (ancestors)."
   ]
  },
  {
   "cell_type": "markdown",
   "metadata": {},
   "source": [
    "Let's see an example by incorporating our previous work on the Dog class:"
   ]
  },
  {
   "cell_type": "code",
   "execution_count": 29,
   "metadata": {},
   "outputs": [],
   "source": [
    "# A new class - Animal - is created.\n",
    "class Animal:\n",
    "\n",
    "    # This  def __init__(self) function is the first function to be executed as soon as we create a new instance from this class.\n",
    "    # Keep this in mind.\n",
    "    def __init__(self):\n",
    "        print(\"Animal created\")\n",
    "\n",
    "    # When I run this function on my object/instance, it is going to print the string \"Animal\".\n",
    "    def whoAmI(self):\n",
    "        print(\"Animal\")\n",
    "\n",
    "    # When I run this function on my object/instance, it is going to print string \"Eating\".\n",
    "    # Since this, method is not overwritten or mentioned anywhere inside the derived class Dog (see the code below)\n",
    "    # we can ALSO use this function for any instance created within the derived class Dog (in future).\n",
    "    def eat(self):\n",
    "        print(\"Eating\")\n",
    "\n",
    "\n",
    "# Creating a new class Dog.\n",
    "# This new class Dog is derived/inherited from the base class Animal that we defined earlier. \n",
    "# Any instance/object defined within this derived class Dog is going to inherit all the methods/functions\n",
    "# that are defined within the parent/base/ancestor class Animal\n",
    "# Class Dog is called the Descendant Class and Class Animal is called the Ancestor Class.\n",
    "class Dog(Animal):\n",
    "\n",
    "    # Overwritting the __init__(self) function craeted within the base class Animal\n",
    "    # This function executes as soon as we create an instance/object within the derived class Dog.\n",
    "    # If I do not define this __init__(self) function inside the derived class Dog again\n",
    "    # then, as soon as we create a new instance for the derived class Dog\n",
    "    # python will simply execute the __init__(self) function that is already defined under the parent class Animal.\n",
    "    # This method will be applicable to any object/instance defined under the derived class Dog\n",
    "    # But will not be applicable to objects/instances under parent class Animal.\n",
    "    def __init__(self):\n",
    "\n",
    "        # Now I am saying, that as soon as I create an instance/object within the derived class Dog\n",
    "        # Firstly, I want to execute the __init__(self) method that is defined under the base/parent/ancestor class Animal\n",
    "        # i.e print the string \"Animal created\"\n",
    "        # DITTO -- THAT IS EXACTLY SAME TO SAME RESULT WITHOUT MAKING ANY CHANGES.\n",
    "        Animal.__init__(self)\n",
    "        # Secondly, print string \"Dog Created\"\n",
    "        print(\"Dog created\")\n",
    "\n",
    "    # Overwritting the functionality of whoamI(self) method.\n",
    "    # whoamI(self) method has a different set of instruction under the parent class Animal.\n",
    "    # This method will be applicable to any object/instance defined under the derived class Dog\n",
    "    # But will not be applicable to objects/instances under parent class Animal.\n",
    "    def whoAmI(self):\n",
    "        print(\"Dog\")\n",
    "\n",
    "    # Adding a new method bark(self) inside the derived class Dog\n",
    "    # This method will be applicable to any object/instance defined under the derived class Dog\n",
    "    # But will not be applicable to objects/instances under parent class Animal.\n",
    "    def bark(self):\n",
    "        print(\"Woof!\")"
   ]
  },
  {
   "cell_type": "code",
   "execution_count": 30,
   "metadata": {},
   "outputs": [
    {
     "name": "stdout",
     "output_type": "stream",
     "text": [
      "Animal created\n"
     ]
    }
   ],
   "source": [
    "# Firstly, let us create a new instance from the parent class Animal.\n",
    "# Notice, that def __init__(self) function is the first function to be executed as soon as we create a new instance from this class.\n",
    "# Keep this in mind.\n",
    "\n",
    "f = Animal()"
   ]
  },
  {
   "cell_type": "code",
   "execution_count": 31,
   "metadata": {},
   "outputs": [
    {
     "name": "stdout",
     "output_type": "stream",
     "text": [
      "Animal\n"
     ]
    }
   ],
   "source": [
    "# Using function whoAmI() [defined inside the parent class Animal] on the instance.\n",
    "f.whoAmI()"
   ]
  },
  {
   "cell_type": "code",
   "execution_count": 32,
   "metadata": {},
   "outputs": [
    {
     "name": "stdout",
     "output_type": "stream",
     "text": [
      "Eating\n"
     ]
    }
   ],
   "source": [
    "# Using function eat() [defined inside the parent class Animal] on the instance.\n",
    "f.eat()"
   ]
  },
  {
   "cell_type": "code",
   "execution_count": 33,
   "metadata": {},
   "outputs": [
    {
     "ename": "AttributeError",
     "evalue": "'Animal' object has no attribute 'bark'",
     "output_type": "error",
     "traceback": [
      "\u001b[1;31m---------------------------------------------------------------------------\u001b[0m",
      "\u001b[1;31mAttributeError\u001b[0m                            Traceback (most recent call last)",
      "\u001b[1;32m<ipython-input-33-43419f3f3113>\u001b[0m in \u001b[0;36m<module>\u001b[1;34m\u001b[0m\n\u001b[0;32m      3\u001b[0m \u001b[1;31m# Because the object/instance f is actually created under the base class Animal\u001b[0m\u001b[1;33m\u001b[0m\u001b[1;33m\u001b[0m\u001b[1;33m\u001b[0m\u001b[0m\n\u001b[0;32m      4\u001b[0m \u001b[1;31m# and not under the derived class Dog.\u001b[0m\u001b[1;33m\u001b[0m\u001b[1;33m\u001b[0m\u001b[1;33m\u001b[0m\u001b[0m\n\u001b[1;32m----> 5\u001b[1;33m \u001b[0mf\u001b[0m\u001b[1;33m.\u001b[0m\u001b[0mbark\u001b[0m\u001b[1;33m(\u001b[0m\u001b[1;33m)\u001b[0m\u001b[1;33m\u001b[0m\u001b[1;33m\u001b[0m\u001b[0m\n\u001b[0m",
      "\u001b[1;31mAttributeError\u001b[0m: 'Animal' object has no attribute 'bark'"
     ]
    }
   ],
   "source": [
    "# Now if we try to use a Dog class method/function bark() (not defined under base class Animal) \n",
    "# it shows an error.\n",
    "# Because the object/instance f is actually created under the base class Animal \n",
    "# and not under the derived class Dog.\n",
    "f.bark()"
   ]
  },
  {
   "cell_type": "code",
   "execution_count": 34,
   "metadata": {},
   "outputs": [
    {
     "name": "stdout",
     "output_type": "stream",
     "text": [
      "Animal created\n",
      "Dog created\n"
     ]
    }
   ],
   "source": [
    "# Now, let us create an instance/object from the derived class Dog\n",
    "# Now, as soon as I create the instance, \n",
    "# the __init__(self) method of both the parent class Animal and derived class Dog is executed.\n",
    "# because we have specifically mentioned the -- Animal.__init__(self) -- line inside the \n",
    "# __init__(self) method of Dog class.\n",
    "bolt = Dog()"
   ]
  },
  {
   "cell_type": "code",
   "execution_count": 15,
   "metadata": {},
   "outputs": [
    {
     "name": "stdout",
     "output_type": "stream",
     "text": [
      "Dog\n"
     ]
    }
   ],
   "source": [
    "# Using the method whoAmI(self) on the instance bolt (created under the derived class Dog)\n",
    "# Notice that it gives a different output for the instance bolt (created under the derived class Dog)\n",
    "# than the the time we used it for the instance f (created under the parent class Animal)\n",
    "# This is because we have overwritten this function inside the derived class Dog once again to give a different output.\n",
    "bolt.whoAmI()"
   ]
  },
  {
   "cell_type": "code",
   "execution_count": 16,
   "metadata": {},
   "outputs": [
    {
     "name": "stdout",
     "output_type": "stream",
     "text": [
      "Animal\n"
     ]
    }
   ],
   "source": [
    "# To see the difference.\n",
    "f.whoAmI()"
   ]
  },
  {
   "cell_type": "code",
   "execution_count": 26,
   "metadata": {},
   "outputs": [
    {
     "name": "stdout",
     "output_type": "stream",
     "text": [
      "Eating\n"
     ]
    }
   ],
   "source": [
    "# Now, since instance bolt is defined under the class Dog (which is derived from the parent class Animal)\n",
    "# it inherits all the functions/methods defined inside the parent class Animal by default.\n",
    "# Notice, there is a method eat(self) defined under the parent class Animal.\n",
    "# This function has NOT be overwritten (like whoAmI() AND __init(self) methods) \n",
    "# nor mentioned anywhere inside the derived class Dog.\n",
    "# we can use this function for instance bolt also.\n",
    "\n",
    "bolt.eat()\n",
    "\n",
    "# Notice that it gives the same output as defined under the Animal class."
   ]
  },
  {
   "cell_type": "code",
   "execution_count": 35,
   "metadata": {},
   "outputs": [
    {
     "name": "stdout",
     "output_type": "stream",
     "text": [
      "Woof!\n"
     ]
    }
   ],
   "source": [
    "# Using the method/function bark(self) [defined under the derived class Dog]\n",
    "# on the object/instance bolt created within the derived class Dog.\n",
    "bolt.bark()"
   ]
  },
  {
   "cell_type": "markdown",
   "metadata": {},
   "source": [
    "In this example, we have two classes: Animal and Dog. The Animal is the base class, the Dog is the derived class.<br>\n",
    "\n",
    "The derived class inherits the functionality of the base class.\n",
    "- It is shown by the **eat()** method.<br>\n",
    "\n",
    "The derived class modifies existing behavior of the base class.\n",
    "- Shown by the **whoAmI()** method and **__init__(self)** method.<br>\n",
    "\n",
    "Finally, the derived class extends the functionality of the base class.\n",
    "- Shown by defining a new **bark()** method"
   ]
  },
  {
   "cell_type": "markdown",
   "metadata": {},
   "source": []
  }
 ],
 "metadata": {
  "kernelspec": {
   "display_name": "Python 3",
   "language": "python",
   "name": "python3"
  },
  "language_info": {
   "codemirror_mode": {
    "name": "ipython",
    "version": 3
   },
   "file_extension": ".py",
   "mimetype": "text/x-python",
   "name": "python",
   "nbconvert_exporter": "python",
   "pygments_lexer": "ipython3",
   "version": "3.7.3"
  }
 },
 "nbformat": 4,
 "nbformat_minor": 2
}
