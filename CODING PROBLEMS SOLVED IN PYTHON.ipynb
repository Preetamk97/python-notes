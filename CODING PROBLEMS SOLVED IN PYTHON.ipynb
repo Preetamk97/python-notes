{
 "cells": [
  {
   "cell_type": "markdown",
   "metadata": {},
   "source": [
    "# A PROGRAM TO SWAP TWO NUMBERS GIVEN"
   ]
  },
  {
   "cell_type": "code",
   "execution_count": 15,
   "metadata": {},
   "outputs": [],
   "source": [
    "x = 50\n",
    "y = 75\n",
    "    \n",
    "def swaping_nums(x,y):\n",
    "    \n",
    "    x = x+y \n",
    "    \n",
    "    y = x - y\n",
    "    \n",
    "    x = x - y\n",
    "    \n",
    "    print(\"x = \",x)\n",
    "    print(\"y = \",y)"
   ]
  },
  {
   "cell_type": "code",
   "execution_count": 16,
   "metadata": {},
   "outputs": [
    {
     "name": "stdout",
     "output_type": "stream",
     "text": [
      "x =  75\n",
      "y =  50\n"
     ]
    }
   ],
   "source": [
    "swaping_nums(x,y)"
   ]
  },
  {
   "cell_type": "markdown",
   "metadata": {},
   "source": [
    "# A PROGRAM TO SWAP ANY TWO NUMBERS OR STRINGS GIVEN"
   ]
  },
  {
   "cell_type": "code",
   "execution_count": 19,
   "metadata": {},
   "outputs": [],
   "source": [
    "x = \"Pritam\"\n",
    "\n",
    "y = \"Kalita\"\n",
    "\n",
    "def any_swap(x,y):\n",
    "    \n",
    "    x,y = y,x\n",
    "    \n",
    "    print(\"x = \",x)\n",
    "    print(\"y = \",y)"
   ]
  },
  {
   "cell_type": "code",
   "execution_count": 21,
   "metadata": {},
   "outputs": [
    {
     "name": "stdout",
     "output_type": "stream",
     "text": [
      "x =  Kalita\n",
      "y =  Pritam\n"
     ]
    }
   ],
   "source": [
    "any_swap(x,y)"
   ]
  },
  {
   "cell_type": "code",
   "execution_count": 22,
   "metadata": {},
   "outputs": [
    {
     "name": "stdout",
     "output_type": "stream",
     "text": [
      "x =  75\n",
      "y =  25\n"
     ]
    }
   ],
   "source": [
    "x = 25\n",
    "\n",
    "y = 75\n",
    "\n",
    "def any_swap(x,y):\n",
    "    \n",
    "    x,y = y,x\n",
    "    \n",
    "    print(\"x = \",x)\n",
    "    print(\"y = \",y)\n",
    "\n",
    "any_swap(x,y)"
   ]
  },
  {
   "cell_type": "markdown",
   "metadata": {},
   "source": [
    "# A PROGRAM TO CHECK WHETHER A NUMBER IS EVEN OR ODD."
   ]
  },
  {
   "cell_type": "code",
   "execution_count": 25,
   "metadata": {},
   "outputs": [
    {
     "name": "stdout",
     "output_type": "stream",
     "text": [
      "Please enter any number: 23\n",
      "The number is ODD.\n"
     ]
    }
   ],
   "source": [
    "def even_check():\n",
    "    \n",
    "    num = int(input(\"Please enter any number: \"))\n",
    "    \n",
    "    if num%2 == 0:\n",
    "        print(\"The number is EVEN.\")\n",
    "    else:\n",
    "        print(\"The number is ODD.\")\n",
    "\n",
    "even_check()"
   ]
  },
  {
   "cell_type": "markdown",
   "metadata": {},
   "source": [
    "# A PROGRAM WHICH PRINTS THE LIST OF ODD AND EVEN NUMBERS BETWEEN ANY TWO GIVEN NUMBERS."
   ]
  },
  {
   "cell_type": "code",
   "execution_count": 28,
   "metadata": {},
   "outputs": [
    {
     "name": "stdout",
     "output_type": "stream",
     "text": [
      "Please enter your First Number: 10\n",
      "Please enter your Second Number: 29\n",
      "The number 10 is EVEN.\n",
      "The number 11 is ODD.\n",
      "The number 12 is EVEN.\n",
      "The number 13 is ODD.\n",
      "The number 14 is EVEN.\n",
      "The number 15 is ODD.\n",
      "The number 16 is EVEN.\n",
      "The number 17 is ODD.\n",
      "The number 18 is EVEN.\n",
      "The number 19 is ODD.\n",
      "The number 20 is EVEN.\n",
      "The number 21 is ODD.\n",
      "The number 22 is EVEN.\n",
      "The number 23 is ODD.\n",
      "The number 24 is EVEN.\n",
      "The number 25 is ODD.\n",
      "The number 26 is EVEN.\n",
      "The number 27 is ODD.\n",
      "The number 28 is EVEN.\n",
      "The number 29 is ODD.\n"
     ]
    }
   ],
   "source": [
    "def odd_even_list():\n",
    "    \n",
    "    x = int(input(\"Please enter your First Number: \"))\n",
    "    \n",
    "    y = int(input(\"Please enter your Second Number: \"))\n",
    "    \n",
    "    for num in range(x,y+1):\n",
    "        \n",
    "        if num%2 == 0:\n",
    "            print (f\"The number {num} is EVEN.\")\n",
    "        \n",
    "        else:\n",
    "            print(f\"The number {num} is ODD.\")\n",
    "    \n",
    "odd_even_list()"
   ]
  },
  {
   "cell_type": "markdown",
   "metadata": {},
   "source": [
    "# A PROGRAM TO COUNT VOWELS IN A STRING"
   ]
  },
  {
   "cell_type": "code",
   "execution_count": 4,
   "metadata": {},
   "outputs": [
    {
     "name": "stdout",
     "output_type": "stream",
     "text": [
      "['i', 'i', 'a', 'i', 'a']\n",
      "5\n",
      "['a', 'i']\n",
      "2\n"
     ]
    }
   ],
   "source": [
    "my_string = \"Dipti Kalita\"\n",
    "\n",
    "vowels = [\"a\",\"e\",\"i\",\"o\",\"u\",\"A\",\"E\",\"I\",\"O\",\"U\"]\n",
    "        \n",
    "string_vowels = []\n",
    "          \n",
    "for letter in my_string:\n",
    "        \n",
    "        if letter in vowels:\n",
    "          \n",
    "          string_vowels.append(letter)\n",
    "        continue\n",
    "\n",
    "print(string_vowels)\n",
    "print(len(string_vowels))\n",
    "\n",
    "print(list(set(string_vowels)))\n",
    "print(len(set(string_vowels)))"
   ]
  },
  {
   "cell_type": "markdown",
   "metadata": {},
   "source": [
    "# A PROGRAM TO REVERSE A STRING "
   ]
  },
  {
   "cell_type": "code",
   "execution_count": 9,
   "metadata": {},
   "outputs": [
    {
     "name": "stdout",
     "output_type": "stream",
     "text": [
      "dlroW olleH\n"
     ]
    }
   ],
   "source": [
    "my_string = \"Hello World\"\n",
    "print(my_string[::-1]) #[start from: end but exclude: jump size]"
   ]
  },
  {
   "cell_type": "markdown",
   "metadata": {},
   "source": [
    "# A PROGRAM TO CHECK WHETHER A NUMBER IS PRIME OR NOT"
   ]
  },
  {
   "cell_type": "code",
   "execution_count": 28,
   "metadata": {},
   "outputs": [
    {
     "name": "stdout",
     "output_type": "stream",
     "text": [
      "27 is not a Prime Number\n"
     ]
    }
   ],
   "source": [
    "my_num = 27\n",
    "factor_list = []\n",
    "\n",
    "for num in range(2,my_num):\n",
    "    if my_num%num == 0:\n",
    "        factor_list.append(num)\n",
    "    else:\n",
    "        pass\n",
    "\n",
    "if len(factor_list) == 0:\n",
    "    print(f\"{my_num} is a Prime Number\")\n",
    "else:\n",
    "    print(f\"{my_num} is not a Prime Number\")"
   ]
  },
  {
   "cell_type": "markdown",
   "metadata": {},
   "source": [
    "# A PROGRAM TO CHECK WHETHER A GIVEN NUMBER IS ARMSTRONG NUMBER OR NOT"
   ]
  },
  {
   "cell_type": "code",
   "execution_count": 42,
   "metadata": {},
   "outputs": [
    {
     "name": "stdout",
     "output_type": "stream",
     "text": [
      "The number 407 is Armstrong Number.\n"
     ]
    }
   ],
   "source": [
    "my_num = \"407\" # We have to take this as string as len() function does not work with numbers.  \n",
    "\n",
    "power_list = []\n",
    "\n",
    "for num in my_num:\n",
    "    power = int(num)**(len(my_num))\n",
    "    power_list.append(power)\n",
    "\n",
    "sum = 0\n",
    "for x in power_list:\n",
    "    sum = sum + x\n",
    "\n",
    "if sum == int(my_num):\n",
    "    print(f\"The number {my_num} is Armstrong Number.\")\n",
    "else:\n",
    "    print(f\"The number {my_num} is not Armstrong Number.\")"
   ]
  },
  {
   "cell_type": "markdown",
   "metadata": {},
   "source": [
    "# A PROGRAM TO CHECK WHETHER A GIVEN STRING IS PALINDROME OR NOT"
   ]
  },
  {
   "cell_type": "code",
   "execution_count": 48,
   "metadata": {},
   "outputs": [
    {
     "name": "stdout",
     "output_type": "stream",
     "text": [
      "The string is not a palindrome.\n"
     ]
    }
   ],
   "source": [
    "my_string = \"pritam\"\n",
    "\n",
    "if my_string[::-1] == my_string:\n",
    "    print(\"The string is a palindrome.\")\n",
    "else:\n",
    "    print(\"The string is not a palindrome.\")"
   ]
  },
  {
   "cell_type": "markdown",
   "metadata": {},
   "source": [
    "# A PROGRAM TO PRINT THE TABLE OF 5"
   ]
  },
  {
   "cell_type": "code",
   "execution_count": 50,
   "metadata": {},
   "outputs": [
    {
     "name": "stdout",
     "output_type": "stream",
     "text": [
      "5 x 1 =  5\n",
      "5 x 2 =  10\n",
      "5 x 3 =  15\n",
      "5 x 4 =  20\n",
      "5 x 5 =  25\n",
      "5 x 6 =  30\n",
      "5 x 7 =  35\n",
      "5 x 8 =  40\n",
      "5 x 9 =  45\n",
      "5 x 10 =  50\n",
      "5 x 11 =  55\n",
      "5 x 12 =  60\n",
      "5 x 13 =  65\n",
      "5 x 14 =  70\n",
      "5 x 15 =  75\n",
      "5 x 16 =  80\n",
      "5 x 17 =  85\n",
      "5 x 18 =  90\n",
      "5 x 19 =  95\n"
     ]
    }
   ],
   "source": [
    "my_num = 5\n",
    "\n",
    "for num in range(1,20):\n",
    "    print(f\"5 x {num} = \",(5*num))"
   ]
  },
  {
   "cell_type": "markdown",
   "metadata": {},
   "source": [
    "# A PROGRAM TO PRINT FIBONACCI SERIES"
   ]
  },
  {
   "cell_type": "code",
   "execution_count": 52,
   "metadata": {},
   "outputs": [
    {
     "name": "stdout",
     "output_type": "stream",
     "text": [
      "[1, 1, 2, 3, 5, 8, 13, 21, 34, 55, 89, 144]\n"
     ]
    }
   ],
   "source": [
    "my_num = 1\n",
    "\n",
    "my_num2 = 1\n",
    "\n",
    "fibonacci_list = [1,1]\n",
    "\n",
    "n = 1\n",
    "\n",
    "while n <= 10:\n",
    "    \n",
    "    my_num2 += my_num\n",
    "    \n",
    "    fibonacci_list.append(my_num2)\n",
    "    \n",
    "    my_num = my_num2 - my_num\n",
    "    \n",
    "    n += 1\n",
    "    \n",
    "print(fibonacci_list)"
   ]
  },
  {
   "cell_type": "markdown",
   "metadata": {},
   "source": [
    "# A PROGRAM TO PRINT FACTORIAL OF 5"
   ]
  },
  {
   "cell_type": "code",
   "execution_count": 74,
   "metadata": {},
   "outputs": [
    {
     "data": {
      "text/plain": [
       "120"
      ]
     },
     "execution_count": 74,
     "metadata": {},
     "output_type": "execute_result"
    }
   ],
   "source": [
    "my_num = 5\n",
    "\n",
    "n = 1\n",
    "\n",
    "factorial = 1\n",
    "\n",
    "while n < my_num:\n",
    "    \n",
    "    factorial = factorial*(n+1)\n",
    "    \n",
    "    n+=1    \n",
    "\n",
    "factorial"
   ]
  },
  {
   "cell_type": "code",
   "execution_count": null,
   "metadata": {},
   "outputs": [],
   "source": []
  }
 ],
 "metadata": {
  "kernelspec": {
   "display_name": "Python 3",
   "language": "python",
   "name": "python3"
  },
  "language_info": {
   "codemirror_mode": {
    "name": "ipython",
    "version": 3
   },
   "file_extension": ".py",
   "mimetype": "text/x-python",
   "name": "python",
   "nbconvert_exporter": "python",
   "pygments_lexer": "ipython3",
   "version": "3.7.3"
  }
 },
 "nbformat": 4,
 "nbformat_minor": 2
}
